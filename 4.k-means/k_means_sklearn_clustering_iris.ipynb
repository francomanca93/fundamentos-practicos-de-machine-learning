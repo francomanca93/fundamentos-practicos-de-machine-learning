{
  "nbformat": 4,
  "nbformat_minor": 0,
  "metadata": {
    "colab": {
      "name": "k_means-sklearn-clustering-iris.ipynb",
      "provenance": [],
      "authorship_tag": "ABX9TyPCBSXoqe4MZjtpkMINydHj",
      "include_colab_link": true
    },
    "kernelspec": {
      "name": "python3",
      "display_name": "Python 3"
    }
  },
  "cells": [
    {
      "cell_type": "markdown",
      "metadata": {
        "id": "view-in-github",
        "colab_type": "text"
      },
      "source": [
        "<a href=\"https://colab.research.google.com/github/francomanca93/fundamentos-practicos-de-machine-learning/blob/main/4.k-means/k_means_sklearn_clustering_iris.ipynb\" target=\"_parent\"><img src=\"https://colab.research.google.com/assets/colab-badge.svg\" alt=\"Open In Colab\"/></a>"
      ]
    },
    {
      "cell_type": "markdown",
      "metadata": {
        "id": "9RvWQQ60uBRg"
      },
      "source": [
        "# K means en Scikit Learn"
      ]
    },
    {
      "cell_type": "markdown",
      "metadata": {
        "id": "BH6ddQ3qrIFz"
      },
      "source": [
        "## Cargando el data set de Iris"
      ]
    },
    {
      "cell_type": "markdown",
      "metadata": {
        "id": "cyTJSstZBk8I"
      },
      "source": [
        "Tenemos 3 especies Virginia, Versicolo y Setosa. Los grupos que querremos encontrar serán de estas especies.\n",
        "\n",
        "Sabemos que hay 50 muestras de cada especie y tenemos como dato el largo y el ancho del sépalo y del pétalo.\n",
        "\n",
        "Vamos a entrenar a nuestro algoritmo a partir de las similitudes que tenemos.\n",
        "\n",
        "Lo importante es saber cuales de ellos se acercan mas hacia las **similitudes** y que nos cree justamente los **centroides** correspondiente, que es lo que hace **K-Means**.\n",
        "\n"
      ]
    },
    {
      "cell_type": "code",
      "metadata": {
        "id": "7NXknPKumGiL"
      },
      "source": [
        "from sklearn.cluster import KMeans\n",
        "from sklearn import datasets\n",
        "import pandas as pd\n",
        "import matplotlib.pyplot as plt"
      ],
      "execution_count": 1,
      "outputs": []
    },
    {
      "cell_type": "code",
      "metadata": {
        "id": "Yidqz6vgmn47"
      },
      "source": [
        "iris = datasets.load_iris()"
      ],
      "execution_count": 2,
      "outputs": []
    },
    {
      "cell_type": "code",
      "metadata": {
        "id": "gDMdTfHgm39k"
      },
      "source": [
        "X_iris = iris.data\n",
        "Y_iris = iris.target # no utilizaremos esta etiqueta para entrenar"
      ],
      "execution_count": 3,
      "outputs": []
    },
    {
      "cell_type": "code",
      "metadata": {
        "colab": {
          "base_uri": "https://localhost:8080/",
          "height": 424
        },
        "id": "xEYHGm3tm6J0",
        "outputId": "57cc0333-e45f-457c-f492-cea9973c7ffd"
      },
      "source": [
        "x = pd.DataFrame(iris.data, columns= iris.feature_names)\n",
        "y = pd.DataFrame(iris.target, columns=['Target'])\n",
        "x"
      ],
      "execution_count": 4,
      "outputs": [
        {
          "output_type": "execute_result",
          "data": {
            "text/html": [
              "<div>\n",
              "<style scoped>\n",
              "    .dataframe tbody tr th:only-of-type {\n",
              "        vertical-align: middle;\n",
              "    }\n",
              "\n",
              "    .dataframe tbody tr th {\n",
              "        vertical-align: top;\n",
              "    }\n",
              "\n",
              "    .dataframe thead th {\n",
              "        text-align: right;\n",
              "    }\n",
              "</style>\n",
              "<table border=\"1\" class=\"dataframe\">\n",
              "  <thead>\n",
              "    <tr style=\"text-align: right;\">\n",
              "      <th></th>\n",
              "      <th>sepal length (cm)</th>\n",
              "      <th>sepal width (cm)</th>\n",
              "      <th>petal length (cm)</th>\n",
              "      <th>petal width (cm)</th>\n",
              "    </tr>\n",
              "  </thead>\n",
              "  <tbody>\n",
              "    <tr>\n",
              "      <th>0</th>\n",
              "      <td>5.1</td>\n",
              "      <td>3.5</td>\n",
              "      <td>1.4</td>\n",
              "      <td>0.2</td>\n",
              "    </tr>\n",
              "    <tr>\n",
              "      <th>1</th>\n",
              "      <td>4.9</td>\n",
              "      <td>3.0</td>\n",
              "      <td>1.4</td>\n",
              "      <td>0.2</td>\n",
              "    </tr>\n",
              "    <tr>\n",
              "      <th>2</th>\n",
              "      <td>4.7</td>\n",
              "      <td>3.2</td>\n",
              "      <td>1.3</td>\n",
              "      <td>0.2</td>\n",
              "    </tr>\n",
              "    <tr>\n",
              "      <th>3</th>\n",
              "      <td>4.6</td>\n",
              "      <td>3.1</td>\n",
              "      <td>1.5</td>\n",
              "      <td>0.2</td>\n",
              "    </tr>\n",
              "    <tr>\n",
              "      <th>4</th>\n",
              "      <td>5.0</td>\n",
              "      <td>3.6</td>\n",
              "      <td>1.4</td>\n",
              "      <td>0.2</td>\n",
              "    </tr>\n",
              "    <tr>\n",
              "      <th>...</th>\n",
              "      <td>...</td>\n",
              "      <td>...</td>\n",
              "      <td>...</td>\n",
              "      <td>...</td>\n",
              "    </tr>\n",
              "    <tr>\n",
              "      <th>145</th>\n",
              "      <td>6.7</td>\n",
              "      <td>3.0</td>\n",
              "      <td>5.2</td>\n",
              "      <td>2.3</td>\n",
              "    </tr>\n",
              "    <tr>\n",
              "      <th>146</th>\n",
              "      <td>6.3</td>\n",
              "      <td>2.5</td>\n",
              "      <td>5.0</td>\n",
              "      <td>1.9</td>\n",
              "    </tr>\n",
              "    <tr>\n",
              "      <th>147</th>\n",
              "      <td>6.5</td>\n",
              "      <td>3.0</td>\n",
              "      <td>5.2</td>\n",
              "      <td>2.0</td>\n",
              "    </tr>\n",
              "    <tr>\n",
              "      <th>148</th>\n",
              "      <td>6.2</td>\n",
              "      <td>3.4</td>\n",
              "      <td>5.4</td>\n",
              "      <td>2.3</td>\n",
              "    </tr>\n",
              "    <tr>\n",
              "      <th>149</th>\n",
              "      <td>5.9</td>\n",
              "      <td>3.0</td>\n",
              "      <td>5.1</td>\n",
              "      <td>1.8</td>\n",
              "    </tr>\n",
              "  </tbody>\n",
              "</table>\n",
              "<p>150 rows × 4 columns</p>\n",
              "</div>"
            ],
            "text/plain": [
              "     sepal length (cm)  sepal width (cm)  petal length (cm)  petal width (cm)\n",
              "0                  5.1               3.5                1.4               0.2\n",
              "1                  4.9               3.0                1.4               0.2\n",
              "2                  4.7               3.2                1.3               0.2\n",
              "3                  4.6               3.1                1.5               0.2\n",
              "4                  5.0               3.6                1.4               0.2\n",
              "..                 ...               ...                ...               ...\n",
              "145                6.7               3.0                5.2               2.3\n",
              "146                6.3               2.5                5.0               1.9\n",
              "147                6.5               3.0                5.2               2.0\n",
              "148                6.2               3.4                5.4               2.3\n",
              "149                5.9               3.0                5.1               1.8\n",
              "\n",
              "[150 rows x 4 columns]"
            ]
          },
          "metadata": {
            "tags": []
          },
          "execution_count": 4
        }
      ]
    },
    {
      "cell_type": "code",
      "metadata": {
        "colab": {
          "base_uri": "https://localhost:8080/",
          "height": 296
        },
        "id": "6zgbDABInYGF",
        "outputId": "9ab0cd47-43ed-459b-bb3d-e9f907a3f57b"
      },
      "source": [
        "plt.scatter(x['petal length (cm)'], x['petal width (cm)'], c='blue')\n",
        "plt.xlabel('Petal Length', fontsize = 10)\n",
        "plt.ylabel('Petal Width', fontsize = 10)"
      ],
      "execution_count": 5,
      "outputs": [
        {
          "output_type": "execute_result",
          "data": {
            "text/plain": [
              "Text(0, 0.5, 'Petal Width')"
            ]
          },
          "metadata": {
            "tags": []
          },
          "execution_count": 5
        },
        {
          "output_type": "display_data",
          "data": {
            "image/png": "[encoded data removed]",
            "text/plain": [
              "<Figure size 432x288 with 1 Axes>"
            ]
          },
          "metadata": {
            "tags": [],
            "needs_background": "light"
          }
        }
      ]
    },
    {
      "cell_type": "markdown",
      "metadata": {
        "id": "D_oI8UkjCs0B"
      },
      "source": [
        "## Construcción y evaluación del modelo con K-Means"
      ]
    },
    {
      "cell_type": "markdown",
      "metadata": {
        "id": "eAqCrLrEEYbT"
      },
      "source": [
        "Vamos a entrenar el modelo y posteriormente ponerlo a prueba.\n",
        "\n",
        "> **n_cluster**: Es nuestro K. Este valor nos va a permitir generar los centroides en nuestro plano XY. Cada grupo creado estará definido por los n_cluster.\n",
        ">\n",
        "> **max_iter**: Este parámetro nos dice cuantas veces vamos a mover/iterar K hasta encontrar las distancias mas cercana a cada unos de los conjunto de puntos en el plano XY"
      ]
    },
    {
      "cell_type": "markdown",
      "metadata": {
        "id": "4JVtJYi6J56k"
      },
      "source": [
        "### Metodo del codo\n",
        "\n",
        "El método del codo se basa en la suma de los cuadrados de las distancias de cada elemento de datos con su centroide correspondiente y se denota de la siguiente manera:\n",
        "\n",
        "![](https://imgur.com/e3V6Zxd.png)\n",
        "\n",
        "Donde WCSS es la suma de los cuadrados de las distancias y se refiere a Within-Cluster-Sum-of-Squares, Yi es el centroide del elemento o dato Xi y n el total de datos en la muestra.\n",
        "\n",
        "Se puede ver con graficamente el proceso completo de como se realiza  el método del codo en este articulo, [k-Means Clustering con Python](https://www.jacobsoft.com.mx/es_mx/k-means-clustering-con-python/)."
      ]
    },
    {
      "cell_type": "code",
      "metadata": {
        "colab": {
          "base_uri": "https://localhost:8080/",
          "height": 295
        },
        "id": "P843IUF0GpSp",
        "outputId": "bdb70a4c-2288-4f9f-fa4f-c1c1945e52c4"
      },
      "source": [
        "from sklearn.cluster import KMeans\n",
        "\n",
        "wcss = []\n",
        "for i in range(1, 11):\n",
        "    kmeans = KMeans(n_clusters=i, max_iter=1000, random_state=0) # Aca definimos el modelo\n",
        "    kmeans.fit(x) # Aca utilizamos los datos\n",
        "    wcss.append(kmeans.inertia_) # \n",
        "plt.plot(range(1, 11), wcss)\n",
        "plt.title('Elbow Method')\n",
        "plt.xlabel('Number of clusters')\n",
        "plt.ylabel('WCSS')\n",
        "plt.axhline(100,color='r',)\n",
        "plt.show()"
      ],
      "execution_count": 6,
      "outputs": [
        {
          "output_type": "display_data",
          "data": {
            "image/png": "[encoded data removed]",
            "text/plain": [
              "<Figure size 432x288 with 1 Axes>"
            ]
          },
          "metadata": {
            "tags": [],
            "needs_background": "light"
          }
        }
      ]
    },
    {
      "cell_type": "markdown",
      "metadata": {
        "id": "YZhrxK-jKeh2"
      },
      "source": [
        "### Construimos el modelo"
      ]
    },
    {
      "cell_type": "code",
      "metadata": {
        "id": "fPfgZG86oAaw"
      },
      "source": [
        "model = KMeans(n_clusters=3, max_iter=1000)\n",
        "model.fit(x)\n",
        "y_label = model.labels_"
      ],
      "execution_count": 7,
      "outputs": []
    },
    {
      "cell_type": "code",
      "metadata": {
        "colab": {
          "base_uri": "https://localhost:8080/"
        },
        "id": "0Ep5f0EuDCNq",
        "outputId": "9caa82f6-78c6-4b24-bb64-f2aed82c8f0c"
      },
      "source": [
        "y_kmeans = model.predict(x)\n",
        "print('Predicciones ', y_kmeans)"
      ],
      "execution_count": 8,
      "outputs": [
        {
          "output_type": "stream",
          "text": [
            "Predicciones  [1 1 1 1 1 1 1 1 1 1 1 1 1 1 1 1 1 1 1 1 1 1 1 1 1 1 1 1 1 1 1 1 1 1 1 1 1\n",
            " 1 1 1 1 1 1 1 1 1 1 1 1 1 0 0 2 0 0 0 0 0 0 0 0 0 0 0 0 0 0 0 0 0 0 0 0 0\n",
            " 0 0 0 2 0 0 0 0 0 0 0 0 0 0 0 0 0 0 0 0 0 0 0 0 0 0 2 0 2 2 2 2 0 2 2 2 2\n",
            " 2 2 0 0 2 2 2 2 0 2 0 2 0 2 2 0 0 2 2 2 2 2 0 2 2 2 2 0 2 2 2 0 2 2 2 0 2\n",
            " 2 0]\n"
          ],
          "name": "stdout"
        }
      ]
    },
    {
      "cell_type": "markdown",
      "metadata": {
        "id": "xhC7cPj1Kh71"
      },
      "source": [
        "### Evaluamos el modelo"
      ]
    },
    {
      "cell_type": "markdown",
      "metadata": {
        "id": "5TdTMceFFogy"
      },
      "source": [
        "Importamos metrics, para evaluar algunas metricas. En este caso el **accuracy** o precisión. "
      ]
    },
    {
      "cell_type": "code",
      "metadata": {
        "colab": {
          "base_uri": "https://localhost:8080/"
        },
        "id": "P07Zn3HkDNM4",
        "outputId": "b754862a-443f-4061-b2f4-94c25b0e4622"
      },
      "source": [
        "from sklearn import metrics\n",
        "\n",
        "accuracy = metrics.adjusted_rand_score(Y_iris, y_kmeans)\n",
        "print(accuracy)"
      ],
      "execution_count": 9,
      "outputs": [
        {
          "output_type": "stream",
          "text": [
            "0.7302382722834697\n"
          ],
          "name": "stdout"
        }
      ]
    },
    {
      "cell_type": "markdown",
      "metadata": {
        "id": "Bm1VtwW9GDrv"
      },
      "source": [
        "## Graficación del modelo"
      ]
    },
    {
      "cell_type": "code",
      "metadata": {
        "colab": {
          "base_uri": "https://localhost:8080/",
          "height": 296
        },
        "id": "5CtFgbfCGFKj",
        "outputId": "7ea18184-2d89-4eb9-d241-0f2d2ed01c76"
      },
      "source": [
        "plt.scatter(x['petal length (cm)'], x['petal width (cm)'], c= y_kmeans, s = 30)\n",
        "plt.xlabel('Petal Length', fontsize = 10)\n",
        "plt.ylabel('Petal Width', fontsize = 10)\n",
        "plt.show"
      ],
      "execution_count": 10,
      "outputs": [
        {
          "output_type": "execute_result",
          "data": {
            "text/plain": [
              "<function matplotlib.pyplot.show>"
            ]
          },
          "metadata": {
            "tags": []
          },
          "execution_count": 10
        },
        {
          "output_type": "display_data",
          "data": {
            "image/png": "[encoded data removed]",
            "text/plain": [
              "<Figure size 432x288 with 1 Axes>"
            ]
          },
          "metadata": {
            "tags": [],
            "needs_background": "light"
          }
        }
      ]
    }
  ]
}