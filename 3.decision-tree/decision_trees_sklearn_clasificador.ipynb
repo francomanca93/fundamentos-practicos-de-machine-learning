{
  "nbformat": 4,
  "nbformat_minor": 0,
  "metadata": {
    "colab": {
      "name": "decision_trees-sklearn-clasificador.ipynb",
      "provenance": [],
      "authorship_tag": "ABX9TyOqBO6yTbcuvCqR3Bti2cPt",
      "include_colab_link": true
    },
    "kernelspec": {
      "name": "python3",
      "display_name": "Python 3"
    }
  },
  "cells": [
    {
      "cell_type": "markdown",
      "metadata": {
        "id": "view-in-github",
        "colab_type": "text"
      },
      "source": [
        "<a href=\"https://colab.research.google.com/github/francomanca93/fundamentos-practicos-de-machine-learning/blob/main/3.decision-tree/decision_trees_sklearn_clasificador.ipynb\" target=\"_parent\"><img src=\"https://colab.research.google.com/assets/colab-badge.svg\" alt=\"Open In Colab\"/></a>"
      ]
    },
    {
      "cell_type": "markdown",
      "metadata": {
        "id": "JrprFs9m6Bfp"
      },
      "source": [
        "# Comprendiendo nuestro data set para la creación de un árbol de decisión"
      ]
    },
    {
      "cell_type": "markdown",
      "metadata": {
        "id": "DSRHRsyUJVIj"
      },
      "source": [
        "Titanic, lista de pasajeros que se encontraron en este con diferentes caracteristicas. El objetivo es saber si el pasajero  puedo o no sobrevivir. \n",
        "\n",
        "Se trabajar con un archivo previamente procesado para enfocarnos en el algoritmo en si.\n",
        "\n",
        "Tiene variedad de datos y algo de complejidad al trabajar con ellos"
      ]
    },
    {
      "cell_type": "code",
      "metadata": {
        "id": "9ok0t55zI4UD"
      },
      "source": [
        "import pandas as pd\n",
        "import matplotlib.pyplot as plt\n",
        "import seaborn as sns\n",
        "import re\n",
        "import numpy as np\n",
        "from sklearn import tree\n",
        "from sklearn.model_selection import train_test_split\n",
        "\n",
        "%matplotlib inline\n",
        "sns.set()"
      ],
      "execution_count": 1,
      "outputs": []
    },
    {
      "cell_type": "code",
      "metadata": {
        "colab": {
          "base_uri": "https://localhost:8080/",
          "height": 206
        },
        "id": "rlM273_g6dfc",
        "outputId": "6bef32e3-8636-40aa-ded4-33dc5ab67e89"
      },
      "source": [
        "# Read data\n",
        "train_df = pd.read_csv('/content/titanic-train.csv')\n",
        "\n",
        "# Ignore test.csv because it does not have labels for the target prediction \n",
        "# test_df = pd.read_csv('/content/titanic-test.csv')\n",
        "\n",
        "train_df.head()"
      ],
      "execution_count": 2,
      "outputs": [
        {
          "output_type": "execute_result",
          "data": {
            "text/html": [
              "<div>\n",
              "<style scoped>\n",
              "    .dataframe tbody tr th:only-of-type {\n",
              "        vertical-align: middle;\n",
              "    }\n",
              "\n",
              "    .dataframe tbody tr th {\n",
              "        vertical-align: top;\n",
              "    }\n",
              "\n",
              "    .dataframe thead th {\n",
              "        text-align: right;\n",
              "    }\n",
              "</style>\n",
              "<table border=\"1\" class=\"dataframe\">\n",
              "  <thead>\n",
              "    <tr style=\"text-align: right;\">\n",
              "      <th></th>\n",
              "      <th>PassengerId</th>\n",
              "      <th>Survived</th>\n",
              "      <th>Pclass</th>\n",
              "      <th>Name</th>\n",
              "      <th>Sex</th>\n",
              "      <th>Age</th>\n",
              "      <th>SibSp</th>\n",
              "      <th>Parch</th>\n",
              "      <th>Ticket</th>\n",
              "      <th>Fare</th>\n",
              "      <th>Cabin</th>\n",
              "      <th>Embarked</th>\n",
              "    </tr>\n",
              "  </thead>\n",
              "  <tbody>\n",
              "    <tr>\n",
              "      <th>0</th>\n",
              "      <td>1</td>\n",
              "      <td>0</td>\n",
              "      <td>3</td>\n",
              "      <td>Braund, Mr. Owen Harris</td>\n",
              "      <td>male</td>\n",
              "      <td>22.0</td>\n",
              "      <td>1</td>\n",
              "      <td>0</td>\n",
              "      <td>A/5 21171</td>\n",
              "      <td>7.2500</td>\n",
              "      <td>NaN</td>\n",
              "      <td>S</td>\n",
              "    </tr>\n",
              "    <tr>\n",
              "      <th>1</th>\n",
              "      <td>2</td>\n",
              "      <td>1</td>\n",
              "      <td>1</td>\n",
              "      <td>Cumings, Mrs. John Bradley (Florence Briggs Th...</td>\n",
              "      <td>female</td>\n",
              "      <td>38.0</td>\n",
              "      <td>1</td>\n",
              "      <td>0</td>\n",
              "      <td>PC 17599</td>\n",
              "      <td>71.2833</td>\n",
              "      <td>C85</td>\n",
              "      <td>C</td>\n",
              "    </tr>\n",
              "    <tr>\n",
              "      <th>2</th>\n",
              "      <td>3</td>\n",
              "      <td>1</td>\n",
              "      <td>3</td>\n",
              "      <td>Heikkinen, Miss. Laina</td>\n",
              "      <td>female</td>\n",
              "      <td>26.0</td>\n",
              "      <td>0</td>\n",
              "      <td>0</td>\n",
              "      <td>STON/O2. 3101282</td>\n",
              "      <td>7.9250</td>\n",
              "      <td>NaN</td>\n",
              "      <td>S</td>\n",
              "    </tr>\n",
              "    <tr>\n",
              "      <th>3</th>\n",
              "      <td>4</td>\n",
              "      <td>1</td>\n",
              "      <td>1</td>\n",
              "      <td>Futrelle, Mrs. Jacques Heath (Lily May Peel)</td>\n",
              "      <td>female</td>\n",
              "      <td>35.0</td>\n",
              "      <td>1</td>\n",
              "      <td>0</td>\n",
              "      <td>113803</td>\n",
              "      <td>53.1000</td>\n",
              "      <td>C123</td>\n",
              "      <td>S</td>\n",
              "    </tr>\n",
              "    <tr>\n",
              "      <th>4</th>\n",
              "      <td>5</td>\n",
              "      <td>0</td>\n",
              "      <td>3</td>\n",
              "      <td>Allen, Mr. William Henry</td>\n",
              "      <td>male</td>\n",
              "      <td>35.0</td>\n",
              "      <td>0</td>\n",
              "      <td>0</td>\n",
              "      <td>373450</td>\n",
              "      <td>8.0500</td>\n",
              "      <td>NaN</td>\n",
              "      <td>S</td>\n",
              "    </tr>\n",
              "  </tbody>\n",
              "</table>\n",
              "</div>"
            ],
            "text/plain": [
              "   PassengerId  Survived  Pclass  ...     Fare Cabin  Embarked\n",
              "0            1         0       3  ...   7.2500   NaN         S\n",
              "1            2         1       1  ...  71.2833   C85         C\n",
              "2            3         1       3  ...   7.9250   NaN         S\n",
              "3            4         1       1  ...  53.1000  C123         S\n",
              "4            5         0       3  ...   8.0500   NaN         S\n",
              "\n",
              "[5 rows x 12 columns]"
            ]
          },
          "metadata": {
            "tags": []
          },
          "execution_count": 2
        }
      ]
    },
    {
      "cell_type": "code",
      "metadata": {
        "colab": {
          "base_uri": "https://localhost:8080/"
        },
        "id": "pbc0oqlK7UUz",
        "outputId": "16bc39ee-cf88-4d2a-a5b0-36d9a60a5aeb"
      },
      "source": [
        "train_df.info()"
      ],
      "execution_count": 3,
      "outputs": [
        {
          "output_type": "stream",
          "text": [
            "<class 'pandas.core.frame.DataFrame'>\n",
            "RangeIndex: 891 entries, 0 to 890\n",
            "Data columns (total 12 columns):\n",
            " #   Column       Non-Null Count  Dtype  \n",
            "---  ------       --------------  -----  \n",
            " 0   PassengerId  891 non-null    int64  \n",
            " 1   Survived     891 non-null    int64  \n",
            " 2   Pclass       891 non-null    int64  \n",
            " 3   Name         891 non-null    object \n",
            " 4   Sex          891 non-null    object \n",
            " 5   Age          714 non-null    float64\n",
            " 6   SibSp        891 non-null    int64  \n",
            " 7   Parch        891 non-null    int64  \n",
            " 8   Ticket       891 non-null    object \n",
            " 9   Fare         891 non-null    float64\n",
            " 10  Cabin        204 non-null    object \n",
            " 11  Embarked     889 non-null    object \n",
            "dtypes: float64(2), int64(5), object(5)\n",
            "memory usage: 83.7+ KB\n"
          ],
          "name": "stdout"
        }
      ]
    },
    {
      "cell_type": "code",
      "metadata": {
        "colab": {
          "base_uri": "https://localhost:8080/",
          "height": 447
        },
        "id": "DvMRRlNUFL_p",
        "outputId": "84d97ba4-cfe2-4425-9555-2c5ceb55a1c5"
      },
      "source": [
        "labels = ['Total a bordo', 'Total Sobrevivientes','Total Fallecidos']\n",
        "hombres_vivos = [train_df.Sex.value_counts()[0],train_df[(train_df.Survived == 1)].Sex.value_counts()[1],train_df[(train_df.Survived == 0)].Sex.value_counts()[0]]\n",
        "mujeres_vivas = [train_df.Sex.value_counts()[1],train_df[(train_df.Survived == 1)].Sex.value_counts()[0],train_df[(train_df.Survived == 0)].Sex.value_counts()[1]]\n",
        "\n",
        "x = np.arange(len(labels)) \n",
        "width = 0.35 \n",
        "\n",
        "fig, ax = plt.subplots(figsize=(8,7))  # Localización de las etiquetas\n",
        "rects1 = ax.bar(x - width/2, hombres_vivos, width, label='Hombres')\n",
        "rects2 = ax.bar(x + width/2, mujeres_vivas, width, label='Mujeres')\n",
        "\n",
        "# Agregue texto para etiquetas, títulos y etiquetas personalizadas del eje x, etc.\n",
        "ax.set_title('Distribución de pasajeros del Titanic')\n",
        "ax.set_xticks(x)\n",
        "ax.set_xticklabels(labels)\n",
        "ax.legend()\n",
        "\n",
        "def autolabel(rects):\n",
        "  '''Adjunta una etiqueta de texto sobre cada barra recta, mostrando su altura.'''\n",
        "  for rect in rects:\n",
        "    height = rect.get_height()\n",
        "    ax.annotate('{}'.format(height),\n",
        "                xy=(rect.get_x() + rect.get_width() / 2, height),\n",
        "                xytext=(0, 3),  # Desplazamiento vertical de 3 puntos\n",
        "                textcoords=\"offset points\",\n",
        "                ha='center', va='bottom')\n",
        "\n",
        "autolabel(rects1)\n",
        "autolabel(rects2)\n",
        "\n",
        "plt.show()"
      ],
      "execution_count": 4,
      "outputs": [
        {
          "output_type": "display_data",
          "data": {
            "image/png": "[encoded data removed]",
            "text/plain": [
              "<Figure size 576x504 with 1 Axes>"
            ]
          },
          "metadata": {
            "tags": [],
            "needs_background": "light"
          }
        }
      ]
    },
    {
      "cell_type": "markdown",
      "metadata": {
        "id": "XuvqUAIkHVdi"
      },
      "source": [
        "# Tratamiento de datos"
      ]
    },
    {
      "cell_type": "code",
      "metadata": {
        "colab": {
          "base_uri": "https://localhost:8080/",
          "height": 206
        },
        "id": "rhoHgXIeFyXm",
        "outputId": "0628ff5d-f9f8-4549-9d2c-6a916c49d28d"
      },
      "source": [
        "from sklearn import preprocessing\n",
        "label_encoder = preprocessing.LabelEncoder()\n",
        "\n",
        "encoder_sex = label_encoder.fit_transform(train_df['Sex'])\n",
        "train_df.head()"
      ],
      "execution_count": 5,
      "outputs": [
        {
          "output_type": "execute_result",
          "data": {
            "text/html": [
              "<div>\n",
              "<style scoped>\n",
              "    .dataframe tbody tr th:only-of-type {\n",
              "        vertical-align: middle;\n",
              "    }\n",
              "\n",
              "    .dataframe tbody tr th {\n",
              "        vertical-align: top;\n",
              "    }\n",
              "\n",
              "    .dataframe thead th {\n",
              "        text-align: right;\n",
              "    }\n",
              "</style>\n",
              "<table border=\"1\" class=\"dataframe\">\n",
              "  <thead>\n",
              "    <tr style=\"text-align: right;\">\n",
              "      <th></th>\n",
              "      <th>PassengerId</th>\n",
              "      <th>Survived</th>\n",
              "      <th>Pclass</th>\n",
              "      <th>Name</th>\n",
              "      <th>Sex</th>\n",
              "      <th>Age</th>\n",
              "      <th>SibSp</th>\n",
              "      <th>Parch</th>\n",
              "      <th>Ticket</th>\n",
              "      <th>Fare</th>\n",
              "      <th>Cabin</th>\n",
              "      <th>Embarked</th>\n",
              "    </tr>\n",
              "  </thead>\n",
              "  <tbody>\n",
              "    <tr>\n",
              "      <th>0</th>\n",
              "      <td>1</td>\n",
              "      <td>0</td>\n",
              "      <td>3</td>\n",
              "      <td>Braund, Mr. Owen Harris</td>\n",
              "      <td>male</td>\n",
              "      <td>22.0</td>\n",
              "      <td>1</td>\n",
              "      <td>0</td>\n",
              "      <td>A/5 21171</td>\n",
              "      <td>7.2500</td>\n",
              "      <td>NaN</td>\n",
              "      <td>S</td>\n",
              "    </tr>\n",
              "    <tr>\n",
              "      <th>1</th>\n",
              "      <td>2</td>\n",
              "      <td>1</td>\n",
              "      <td>1</td>\n",
              "      <td>Cumings, Mrs. John Bradley (Florence Briggs Th...</td>\n",
              "      <td>female</td>\n",
              "      <td>38.0</td>\n",
              "      <td>1</td>\n",
              "      <td>0</td>\n",
              "      <td>PC 17599</td>\n",
              "      <td>71.2833</td>\n",
              "      <td>C85</td>\n",
              "      <td>C</td>\n",
              "    </tr>\n",
              "    <tr>\n",
              "      <th>2</th>\n",
              "      <td>3</td>\n",
              "      <td>1</td>\n",
              "      <td>3</td>\n",
              "      <td>Heikkinen, Miss. Laina</td>\n",
              "      <td>female</td>\n",
              "      <td>26.0</td>\n",
              "      <td>0</td>\n",
              "      <td>0</td>\n",
              "      <td>STON/O2. 3101282</td>\n",
              "      <td>7.9250</td>\n",
              "      <td>NaN</td>\n",
              "      <td>S</td>\n",
              "    </tr>\n",
              "    <tr>\n",
              "      <th>3</th>\n",
              "      <td>4</td>\n",
              "      <td>1</td>\n",
              "      <td>1</td>\n",
              "      <td>Futrelle, Mrs. Jacques Heath (Lily May Peel)</td>\n",
              "      <td>female</td>\n",
              "      <td>35.0</td>\n",
              "      <td>1</td>\n",
              "      <td>0</td>\n",
              "      <td>113803</td>\n",
              "      <td>53.1000</td>\n",
              "      <td>C123</td>\n",
              "      <td>S</td>\n",
              "    </tr>\n",
              "    <tr>\n",
              "      <th>4</th>\n",
              "      <td>5</td>\n",
              "      <td>0</td>\n",
              "      <td>3</td>\n",
              "      <td>Allen, Mr. William Henry</td>\n",
              "      <td>male</td>\n",
              "      <td>35.0</td>\n",
              "      <td>0</td>\n",
              "      <td>0</td>\n",
              "      <td>373450</td>\n",
              "      <td>8.0500</td>\n",
              "      <td>NaN</td>\n",
              "      <td>S</td>\n",
              "    </tr>\n",
              "  </tbody>\n",
              "</table>\n",
              "</div>"
            ],
            "text/plain": [
              "   PassengerId  Survived  Pclass  ...     Fare Cabin  Embarked\n",
              "0            1         0       3  ...   7.2500   NaN         S\n",
              "1            2         1       1  ...  71.2833   C85         C\n",
              "2            3         1       3  ...   7.9250   NaN         S\n",
              "3            4         1       1  ...  53.1000  C123         S\n",
              "4            5         0       3  ...   8.0500   NaN         S\n",
              "\n",
              "[5 rows x 12 columns]"
            ]
          },
          "metadata": {
            "tags": []
          },
          "execution_count": 5
        }
      ]
    },
    {
      "cell_type": "markdown",
      "metadata": {
        "id": "1qxm7J3ONLu7"
      },
      "source": [
        "Completaremos los valores nulos de Age (con la media de edades) y Embarked (con ‘S’; embarcados en Southampton)"
      ]
    },
    {
      "cell_type": "code",
      "metadata": {
        "id": "NcJy6plkIFMc"
      },
      "source": [
        "train_df['Age'] = train_df['Age'].fillna(train_df['Age'].median())\n",
        "train_df['Embarked'] = train_df['Embarked'].fillna('S')"
      ],
      "execution_count": 6,
      "outputs": []
    },
    {
      "cell_type": "markdown",
      "metadata": {
        "id": "c8hZQHVzNOuB"
      },
      "source": [
        "Eliminamos la columnas que no consideramos necesarias\n"
      ]
    },
    {
      "cell_type": "code",
      "metadata": {
        "id": "74GIZJvRIiPP"
      },
      "source": [
        "titanic_data = train_df.drop(['PassengerId', 'Survived', 'Name', 'Ticket', 'Cabin'], axis=1)\n",
        "#axis=1 se refiere a las columnas (axis=0 → filas)"
      ],
      "execution_count": 7,
      "outputs": []
    },
    {
      "cell_type": "markdown",
      "metadata": {
        "id": "Bwlxflm8NeCH"
      },
      "source": [
        "Separamos las columnas categóricas de las numéricas:\n",
        "\n",
        "- Para detectar la columnas categóricas analizamos la columna con dtype (debe ser igual a ‘object’), consideramos además que no haya mas de 10 diferentes valores (como factor de seguridad)\n"
      ]
    },
    {
      "cell_type": "code",
      "metadata": {
        "colab": {
          "base_uri": "https://localhost:8080/"
        },
        "id": "Pr1S5PDJNVor",
        "outputId": "002f325a-0539-471e-eec0-8bedc3bf99b3"
      },
      "source": [
        "categorical_cols = [cname for cname in titanic_data.columns if\n",
        "                    titanic_data[cname].nunique() < 10 and\n",
        "                    titanic_data[cname].dtype == 'object'\n",
        "                    ]\n",
        "categorical_cols"
      ],
      "execution_count": 8,
      "outputs": [
        {
          "output_type": "execute_result",
          "data": {
            "text/plain": [
              "['Sex', 'Embarked']"
            ]
          },
          "metadata": {
            "tags": []
          },
          "execution_count": 8
        }
      ]
    },
    {
      "cell_type": "markdown",
      "metadata": {
        "id": "cp1rooPiNjIQ"
      },
      "source": [
        "- Para detectar la columnas numéricas analizamos la columna con dtype (debe ser igual a 'int64' o 'float64')"
      ]
    },
    {
      "cell_type": "code",
      "metadata": {
        "colab": {
          "base_uri": "https://localhost:8080/"
        },
        "id": "RUHeNhcMJMUr",
        "outputId": "227515a4-37d3-46ca-d145-c8f461409a10"
      },
      "source": [
        "numerical_cols = [cname for cname in titanic_data.columns if\n",
        "                  titanic_data[cname].dtype in ['int64', 'float64']\n",
        "                  ]\n",
        "numerical_cols"
      ],
      "execution_count": 9,
      "outputs": [
        {
          "output_type": "execute_result",
          "data": {
            "text/plain": [
              "['Pclass', 'Age', 'SibSp', 'Parch', 'Fare']"
            ]
          },
          "metadata": {
            "tags": []
          },
          "execution_count": 9
        }
      ]
    },
    {
      "cell_type": "markdown",
      "metadata": {
        "id": "8uVRJKHRN0Dc"
      },
      "source": [
        "- Unimos nuevamente las columnas en una sola variable pero con los datos numéricos separados de los categóricos"
      ]
    },
    {
      "cell_type": "code",
      "metadata": {
        "colab": {
          "base_uri": "https://localhost:8080/",
          "height": 206
        },
        "id": "Mj07-TtIJoAk",
        "outputId": "30414535-9294-4034-c4ef-f6c13e2240f1"
      },
      "source": [
        "my_cols = categorical_cols + numerical_cols\n",
        "\n",
        "titanic_data = titanic_data[my_cols]\n",
        "titanic_data.head()"
      ],
      "execution_count": 10,
      "outputs": [
        {
          "output_type": "execute_result",
          "data": {
            "text/html": [
              "<div>\n",
              "<style scoped>\n",
              "    .dataframe tbody tr th:only-of-type {\n",
              "        vertical-align: middle;\n",
              "    }\n",
              "\n",
              "    .dataframe tbody tr th {\n",
              "        vertical-align: top;\n",
              "    }\n",
              "\n",
              "    .dataframe thead th {\n",
              "        text-align: right;\n",
              "    }\n",
              "</style>\n",
              "<table border=\"1\" class=\"dataframe\">\n",
              "  <thead>\n",
              "    <tr style=\"text-align: right;\">\n",
              "      <th></th>\n",
              "      <th>Sex</th>\n",
              "      <th>Embarked</th>\n",
              "      <th>Pclass</th>\n",
              "      <th>Age</th>\n",
              "      <th>SibSp</th>\n",
              "      <th>Parch</th>\n",
              "      <th>Fare</th>\n",
              "    </tr>\n",
              "  </thead>\n",
              "  <tbody>\n",
              "    <tr>\n",
              "      <th>0</th>\n",
              "      <td>male</td>\n",
              "      <td>S</td>\n",
              "      <td>3</td>\n",
              "      <td>22.0</td>\n",
              "      <td>1</td>\n",
              "      <td>0</td>\n",
              "      <td>7.2500</td>\n",
              "    </tr>\n",
              "    <tr>\n",
              "      <th>1</th>\n",
              "      <td>female</td>\n",
              "      <td>C</td>\n",
              "      <td>1</td>\n",
              "      <td>38.0</td>\n",
              "      <td>1</td>\n",
              "      <td>0</td>\n",
              "      <td>71.2833</td>\n",
              "    </tr>\n",
              "    <tr>\n",
              "      <th>2</th>\n",
              "      <td>female</td>\n",
              "      <td>S</td>\n",
              "      <td>3</td>\n",
              "      <td>26.0</td>\n",
              "      <td>0</td>\n",
              "      <td>0</td>\n",
              "      <td>7.9250</td>\n",
              "    </tr>\n",
              "    <tr>\n",
              "      <th>3</th>\n",
              "      <td>female</td>\n",
              "      <td>S</td>\n",
              "      <td>1</td>\n",
              "      <td>35.0</td>\n",
              "      <td>1</td>\n",
              "      <td>0</td>\n",
              "      <td>53.1000</td>\n",
              "    </tr>\n",
              "    <tr>\n",
              "      <th>4</th>\n",
              "      <td>male</td>\n",
              "      <td>S</td>\n",
              "      <td>3</td>\n",
              "      <td>35.0</td>\n",
              "      <td>0</td>\n",
              "      <td>0</td>\n",
              "      <td>8.0500</td>\n",
              "    </tr>\n",
              "  </tbody>\n",
              "</table>\n",
              "</div>"
            ],
            "text/plain": [
              "      Sex Embarked  Pclass   Age  SibSp  Parch     Fare\n",
              "0    male        S       3  22.0      1      0   7.2500\n",
              "1  female        C       1  38.0      1      0  71.2833\n",
              "2  female        S       3  26.0      0      0   7.9250\n",
              "3  female        S       1  35.0      1      0  53.1000\n",
              "4    male        S       3  35.0      0      0   8.0500"
            ]
          },
          "metadata": {
            "tags": []
          },
          "execution_count": 10
        }
      ]
    },
    {
      "cell_type": "markdown",
      "metadata": {
        "id": "LBTnp0xXN5vs"
      },
      "source": [
        "- Usamos el método **get_dummies** para codificar las variables categoricas.\n",
        "\n",
        "> Variable indicadora, **dummy**, ficticia o binaria\n",
        "> \n",
        "> La palabra indicadora, dummy, ficticia o binaria es la denominación genérica para una variable que toma valores de 0 o de 1 y que se utiliza para re-expresar variables cualitativas.\n"
      ]
    },
    {
      "cell_type": "code",
      "metadata": {
        "colab": {
          "base_uri": "https://localhost:8080/",
          "height": 206
        },
        "id": "PdUFdEieJ6NL",
        "outputId": "c9e42005-cf9c-481d-ad64-9ec7050b2d91"
      },
      "source": [
        "dummy_encoded_titanic_data = pd.get_dummies(titanic_data)\n",
        "dummy_encoded_titanic_data.head()"
      ],
      "execution_count": 12,
      "outputs": [
        {
          "output_type": "execute_result",
          "data": {
            "text/html": [
              "<div>\n",
              "<style scoped>\n",
              "    .dataframe tbody tr th:only-of-type {\n",
              "        vertical-align: middle;\n",
              "    }\n",
              "\n",
              "    .dataframe tbody tr th {\n",
              "        vertical-align: top;\n",
              "    }\n",
              "\n",
              "    .dataframe thead th {\n",
              "        text-align: right;\n",
              "    }\n",
              "</style>\n",
              "<table border=\"1\" class=\"dataframe\">\n",
              "  <thead>\n",
              "    <tr style=\"text-align: right;\">\n",
              "      <th></th>\n",
              "      <th>Pclass</th>\n",
              "      <th>Age</th>\n",
              "      <th>SibSp</th>\n",
              "      <th>Parch</th>\n",
              "      <th>Fare</th>\n",
              "      <th>Sex_female</th>\n",
              "      <th>Sex_male</th>\n",
              "      <th>Embarked_C</th>\n",
              "      <th>Embarked_Q</th>\n",
              "      <th>Embarked_S</th>\n",
              "    </tr>\n",
              "  </thead>\n",
              "  <tbody>\n",
              "    <tr>\n",
              "      <th>0</th>\n",
              "      <td>3</td>\n",
              "      <td>22.0</td>\n",
              "      <td>1</td>\n",
              "      <td>0</td>\n",
              "      <td>7.2500</td>\n",
              "      <td>0</td>\n",
              "      <td>1</td>\n",
              "      <td>0</td>\n",
              "      <td>0</td>\n",
              "      <td>1</td>\n",
              "    </tr>\n",
              "    <tr>\n",
              "      <th>1</th>\n",
              "      <td>1</td>\n",
              "      <td>38.0</td>\n",
              "      <td>1</td>\n",
              "      <td>0</td>\n",
              "      <td>71.2833</td>\n",
              "      <td>1</td>\n",
              "      <td>0</td>\n",
              "      <td>1</td>\n",
              "      <td>0</td>\n",
              "      <td>0</td>\n",
              "    </tr>\n",
              "    <tr>\n",
              "      <th>2</th>\n",
              "      <td>3</td>\n",
              "      <td>26.0</td>\n",
              "      <td>0</td>\n",
              "      <td>0</td>\n",
              "      <td>7.9250</td>\n",
              "      <td>1</td>\n",
              "      <td>0</td>\n",
              "      <td>0</td>\n",
              "      <td>0</td>\n",
              "      <td>1</td>\n",
              "    </tr>\n",
              "    <tr>\n",
              "      <th>3</th>\n",
              "      <td>1</td>\n",
              "      <td>35.0</td>\n",
              "      <td>1</td>\n",
              "      <td>0</td>\n",
              "      <td>53.1000</td>\n",
              "      <td>1</td>\n",
              "      <td>0</td>\n",
              "      <td>0</td>\n",
              "      <td>0</td>\n",
              "      <td>1</td>\n",
              "    </tr>\n",
              "    <tr>\n",
              "      <th>4</th>\n",
              "      <td>3</td>\n",
              "      <td>35.0</td>\n",
              "      <td>0</td>\n",
              "      <td>0</td>\n",
              "      <td>8.0500</td>\n",
              "      <td>0</td>\n",
              "      <td>1</td>\n",
              "      <td>0</td>\n",
              "      <td>0</td>\n",
              "      <td>1</td>\n",
              "    </tr>\n",
              "  </tbody>\n",
              "</table>\n",
              "</div>"
            ],
            "text/plain": [
              "   Pclass   Age  SibSp  Parch  ...  Sex_male  Embarked_C  Embarked_Q  Embarked_S\n",
              "0       3  22.0      1      0  ...         1           0           0           1\n",
              "1       1  38.0      1      0  ...         0           1           0           0\n",
              "2       3  26.0      0      0  ...         0           0           0           1\n",
              "3       1  35.0      1      0  ...         0           0           0           1\n",
              "4       3  35.0      0      0  ...         1           0           0           1\n",
              "\n",
              "[5 rows x 10 columns]"
            ]
          },
          "metadata": {
            "tags": []
          },
          "execution_count": 12
        }
      ]
    },
    {
      "cell_type": "code",
      "metadata": {
        "colab": {
          "base_uri": "https://localhost:8080/"
        },
        "id": "ARC6V2ZdKJKb",
        "outputId": "64c681c4-6ed8-44b4-e104-72c882df5993"
      },
      "source": [
        "train_df['Pclass'].value_counts()"
      ],
      "execution_count": 13,
      "outputs": [
        {
          "output_type": "execute_result",
          "data": {
            "text/plain": [
              "3    491\n",
              "1    216\n",
              "2    184\n",
              "Name: Pclass, dtype: int64"
            ]
          },
          "metadata": {
            "tags": []
          },
          "execution_count": 13
        }
      ]
    },
    {
      "cell_type": "markdown",
      "metadata": {
        "id": "BCJmYptCPPjQ"
      },
      "source": [
        "Ahora tenemos nuestra data sin valores vacíos y codificada, lista para entrenar nuestro algoritmo"
      ]
    },
    {
      "cell_type": "markdown",
      "metadata": {
        "id": "29wNZgBsSoU_"
      },
      "source": [
        "# Entrenamiento del modelo de clasificación"
      ]
    },
    {
      "cell_type": "code",
      "metadata": {
        "colab": {
          "base_uri": "https://localhost:8080/",
          "height": 206
        },
        "id": "G4pTHWtEW4bR",
        "outputId": "8aaf4469-9738-42db-c899-84e4d33a8e79"
      },
      "source": [
        "train_df.head()"
      ],
      "execution_count": 14,
      "outputs": [
        {
          "output_type": "execute_result",
          "data": {
            "text/html": [
              "<div>\n",
              "<style scoped>\n",
              "    .dataframe tbody tr th:only-of-type {\n",
              "        vertical-align: middle;\n",
              "    }\n",
              "\n",
              "    .dataframe tbody tr th {\n",
              "        vertical-align: top;\n",
              "    }\n",
              "\n",
              "    .dataframe thead th {\n",
              "        text-align: right;\n",
              "    }\n",
              "</style>\n",
              "<table border=\"1\" class=\"dataframe\">\n",
              "  <thead>\n",
              "    <tr style=\"text-align: right;\">\n",
              "      <th></th>\n",
              "      <th>PassengerId</th>\n",
              "      <th>Survived</th>\n",
              "      <th>Pclass</th>\n",
              "      <th>Name</th>\n",
              "      <th>Sex</th>\n",
              "      <th>Age</th>\n",
              "      <th>SibSp</th>\n",
              "      <th>Parch</th>\n",
              "      <th>Ticket</th>\n",
              "      <th>Fare</th>\n",
              "      <th>Cabin</th>\n",
              "      <th>Embarked</th>\n",
              "    </tr>\n",
              "  </thead>\n",
              "  <tbody>\n",
              "    <tr>\n",
              "      <th>0</th>\n",
              "      <td>1</td>\n",
              "      <td>0</td>\n",
              "      <td>3</td>\n",
              "      <td>Braund, Mr. Owen Harris</td>\n",
              "      <td>male</td>\n",
              "      <td>22.0</td>\n",
              "      <td>1</td>\n",
              "      <td>0</td>\n",
              "      <td>A/5 21171</td>\n",
              "      <td>7.2500</td>\n",
              "      <td>NaN</td>\n",
              "      <td>S</td>\n",
              "    </tr>\n",
              "    <tr>\n",
              "      <th>1</th>\n",
              "      <td>2</td>\n",
              "      <td>1</td>\n",
              "      <td>1</td>\n",
              "      <td>Cumings, Mrs. John Bradley (Florence Briggs Th...</td>\n",
              "      <td>female</td>\n",
              "      <td>38.0</td>\n",
              "      <td>1</td>\n",
              "      <td>0</td>\n",
              "      <td>PC 17599</td>\n",
              "      <td>71.2833</td>\n",
              "      <td>C85</td>\n",
              "      <td>C</td>\n",
              "    </tr>\n",
              "    <tr>\n",
              "      <th>2</th>\n",
              "      <td>3</td>\n",
              "      <td>1</td>\n",
              "      <td>3</td>\n",
              "      <td>Heikkinen, Miss. Laina</td>\n",
              "      <td>female</td>\n",
              "      <td>26.0</td>\n",
              "      <td>0</td>\n",
              "      <td>0</td>\n",
              "      <td>STON/O2. 3101282</td>\n",
              "      <td>7.9250</td>\n",
              "      <td>NaN</td>\n",
              "      <td>S</td>\n",
              "    </tr>\n",
              "    <tr>\n",
              "      <th>3</th>\n",
              "      <td>4</td>\n",
              "      <td>1</td>\n",
              "      <td>1</td>\n",
              "      <td>Futrelle, Mrs. Jacques Heath (Lily May Peel)</td>\n",
              "      <td>female</td>\n",
              "      <td>35.0</td>\n",
              "      <td>1</td>\n",
              "      <td>0</td>\n",
              "      <td>113803</td>\n",
              "      <td>53.1000</td>\n",
              "      <td>C123</td>\n",
              "      <td>S</td>\n",
              "    </tr>\n",
              "    <tr>\n",
              "      <th>4</th>\n",
              "      <td>5</td>\n",
              "      <td>0</td>\n",
              "      <td>3</td>\n",
              "      <td>Allen, Mr. William Henry</td>\n",
              "      <td>male</td>\n",
              "      <td>35.0</td>\n",
              "      <td>0</td>\n",
              "      <td>0</td>\n",
              "      <td>373450</td>\n",
              "      <td>8.0500</td>\n",
              "      <td>NaN</td>\n",
              "      <td>S</td>\n",
              "    </tr>\n",
              "  </tbody>\n",
              "</table>\n",
              "</div>"
            ],
            "text/plain": [
              "   PassengerId  Survived  Pclass  ...     Fare Cabin  Embarked\n",
              "0            1         0       3  ...   7.2500   NaN         S\n",
              "1            2         1       1  ...  71.2833   C85         C\n",
              "2            3         1       3  ...   7.9250   NaN         S\n",
              "3            4         1       1  ...  53.1000  C123         S\n",
              "4            5         0       3  ...   8.0500   NaN         S\n",
              "\n",
              "[5 rows x 12 columns]"
            ]
          },
          "metadata": {
            "tags": []
          },
          "execution_count": 14
        }
      ]
    },
    {
      "cell_type": "markdown",
      "metadata": {
        "id": "1B4mmdx8XByQ"
      },
      "source": [
        "Generamos nuestras variables de entrenamiento"
      ]
    },
    {
      "cell_type": "code",
      "metadata": {
        "id": "PZrDyzHCSxSl"
      },
      "source": [
        "y_target = train_df['Survived'].values\n",
        "x_features_one = dummy_encoded_titanic_data.values"
      ],
      "execution_count": 15,
      "outputs": []
    },
    {
      "cell_type": "markdown",
      "metadata": {
        "id": "LFqNaw5RXI2X"
      },
      "source": [
        "Podemos dividir los datos en entrenamiento y test con train_test_split pero tenemos un csv con datos de test, usaremos estos datos (previamente tratados al igual que los datos de entrenamiento)"
      ]
    },
    {
      "cell_type": "code",
      "metadata": {
        "id": "Wc8dUWx8TFiP"
      },
      "source": [
        "x_train , x_test, y_train , y_test =  train_test_split(x_features_one, y_target, test_size= .25, random_state=1)"
      ],
      "execution_count": 16,
      "outputs": []
    },
    {
      "cell_type": "markdown",
      "metadata": {
        "id": "U1QQAVgjb63W"
      },
      "source": [
        "# Defino modelo"
      ]
    },
    {
      "cell_type": "code",
      "metadata": {
        "id": "rHxnJE_FTiHD"
      },
      "source": [
        "tree_one = tree.DecisionTreeClassifier()\n",
        "tree_one = tree_one.fit(x_train,y_train)"
      ],
      "execution_count": 17,
      "outputs": []
    },
    {
      "cell_type": "markdown",
      "metadata": {
        "id": "4-IBQCVacD9X"
      },
      "source": [
        "# Evaluo el modelo"
      ]
    },
    {
      "cell_type": "code",
      "metadata": {
        "colab": {
          "base_uri": "https://localhost:8080/"
        },
        "id": "U7ANYq6KTmnR",
        "outputId": "fe449d5b-914f-4bb4-f7f7-d502f80c2cbd"
      },
      "source": [
        "tree_one_accuracy = round(tree_one.score(x_test,y_test), 4)\n",
        "print('Accuracy: %0.4f' %(tree_one_accuracy))"
      ],
      "execution_count": 18,
      "outputs": [
        {
          "output_type": "stream",
          "text": [
            "Accuracy: 0.7534\n"
          ],
          "name": "stdout"
        }
      ]
    },
    {
      "cell_type": "markdown",
      "metadata": {
        "id": "nS5oOQHBeVUF"
      },
      "source": [
        "# Visualización del árbol de decisión"
      ]
    },
    {
      "cell_type": "markdown",
      "metadata": {
        "id": "sIdAzmadh3qS"
      },
      "source": [
        "Exporto arbol de decision completo"
      ]
    },
    {
      "cell_type": "code",
      "metadata": {
        "colab": {
          "base_uri": "https://localhost:8080/"
        },
        "id": "sIEnqHF0eUpq",
        "outputId": "431b7bb9-4d5b-46d6-ab1e-8d6d04b630b6"
      },
      "source": [
        "from io import StringIO \n",
        "from IPython.display import Image, display\n",
        "import pydotplus\n",
        "\n",
        "out = StringIO()\n",
        "tree.export_graphviz(tree_one, out_file = out)\n",
        "\n",
        "graph = pydotplus.graph_from_dot_data(out.getvalue())\n",
        "graph.write_png('titanic.png')"
      ],
      "execution_count": 19,
      "outputs": [
        {
          "output_type": "execute_result",
          "data": {
            "text/plain": [
              "True"
            ]
          },
          "metadata": {
            "tags": []
          },
          "execution_count": 19
        }
      ]
    },
    {
      "cell_type": "markdown",
      "metadata": {
        "id": "l0KQH30dhuoQ"
      },
      "source": [
        "Viendo el arbol de decision con una profundidad maxima de 3, para poder visualizar las primeras ramas."
      ]
    },
    {
      "cell_type": "code",
      "metadata": {
        "colab": {
          "base_uri": "https://localhost:8080/",
          "height": 735
        },
        "id": "tYvNNYRXgMyq",
        "outputId": "d1631bb5-e516-4edf-e3d5-3fbf8e4daf81"
      },
      "source": [
        "from IPython.display import SVG\n",
        "from graphviz import Source\n",
        "from IPython.display import display\n",
        "\n",
        "graph = Source(tree.export_graphviz(tree_one, out_file=None,\n",
        "                                    class_names=['0', '1', '2'] ,\n",
        "                                    filled = True,\n",
        "                                    max_depth = 3))\n",
        "display(SVG(graph.pipe(format='svg')))"
      ],
      "execution_count": 22,
      "outputs": [
        {
          "output_type": "display_data",
          "data": {
            "text/plain": [
              "<IPython.core.display.SVG object>"
            ],
            "image/svg+xml": "<svg height=\"520pt\" viewBox=\"0.00 0.00 1067.00 520.00\" width=\"1067pt\" xmlns=\"http://www.w3.org/2000/svg\" xmlns:xlink=\"http://www.w3.org/1999/xlink\">\n<g class=\"graph\" id=\"graph0\" transform=\"scale(1 1) rotate(0) translate(4 516)\">\n<title>Tree</title>\n<polygon fill=\"#ffffff\" points=\"-4,4 -4,-516 1063,-516 1063,4 -4,4\" stroke=\"transparent\"/>\n<!-- 0 -->\n<g class=\"node\" id=\"node1\">\n<title>0</title>\n<polygon fill=\"#f4cbad\" points=\"555.5,-512 430.5,-512 430.5,-429 555.5,-429 555.5,-512\" stroke=\"#000000\"/>\n<text fill=\"#000000\" font-family=\"Times,serif\" font-size=\"14.00\" text-anchor=\"middle\" x=\"493\" y=\"-496.8\">X[5] &lt;= 0.5</text>\n<text fill=\"#000000\" font-family=\"Times,serif\" font-size=\"14.00\" text-anchor=\"middle\" x=\"493\" y=\"-481.8\">gini = 0.466</text>\n<text fill=\"#000000\" font-family=\"Times,serif\" font-size=\"14.00\" text-anchor=\"middle\" x=\"493\" y=\"-466.8\">samples = 668</text>\n<text fill=\"#000000\" font-family=\"Times,serif\" font-size=\"14.00\" text-anchor=\"middle\" x=\"493\" y=\"-451.8\">value = [421, 247]</text>\n<text fill=\"#000000\" font-family=\"Times,serif\" font-size=\"14.00\" text-anchor=\"middle\" x=\"493\" y=\"-436.8\">class = 0</text>\n</g>\n<!-- 1 -->\n<g class=\"node\" id=\"node2\">\n<title>1</title>\n<polygon fill=\"#eb9d64\" points=\"423.5,-393 306.5,-393 306.5,-310 423.5,-310 423.5,-393\" stroke=\"#000000\"/>\n<text fill=\"#000000\" font-family=\"Times,serif\" font-size=\"14.00\" text-anchor=\"middle\" x=\"365\" y=\"-377.8\">X[1] &lt;= 13.0</text>\n<text fill=\"#000000\" font-family=\"Times,serif\" font-size=\"14.00\" text-anchor=\"middle\" x=\"365\" y=\"-362.8\">gini = 0.294</text>\n<text fill=\"#000000\" font-family=\"Times,serif\" font-size=\"14.00\" text-anchor=\"middle\" x=\"365\" y=\"-347.8\">samples = 435</text>\n<text fill=\"#000000\" font-family=\"Times,serif\" font-size=\"14.00\" text-anchor=\"middle\" x=\"365\" y=\"-332.8\">value = [357, 78]</text>\n<text fill=\"#000000\" font-family=\"Times,serif\" font-size=\"14.00\" text-anchor=\"middle\" x=\"365\" y=\"-317.8\">class = 0</text>\n</g>\n<!-- 0&#45;&gt;1 -->\n<g class=\"edge\" id=\"edge1\">\n<title>0-&gt;1</title>\n<path d=\"M448.2318,-428.8796C438.2537,-419.6031 427.5881,-409.6874 417.3358,-400.1559\" fill=\"none\" stroke=\"#000000\"/>\n<polygon fill=\"#000000\" points=\"419.6663,-397.5436 409.9593,-393.2981 414.9,-402.6704 419.6663,-397.5436\" stroke=\"#000000\"/>\n<text fill=\"#000000\" font-family=\"Times,serif\" font-size=\"14.00\" text-anchor=\"middle\" x=\"410.8696\" y=\"-414.5815\">True</text>\n</g>\n<!-- 186 -->\n<g class=\"node\" id=\"node15\">\n<title>186</title>\n<polygon fill=\"#84c2ef\" points=\"689.5,-393 572.5,-393 572.5,-310 689.5,-310 689.5,-393\" stroke=\"#000000\"/>\n<text fill=\"#000000\" font-family=\"Times,serif\" font-size=\"14.00\" text-anchor=\"middle\" x=\"631\" y=\"-377.8\">X[0] &lt;= 2.5</text>\n<text fill=\"#000000\" font-family=\"Times,serif\" font-size=\"14.00\" text-anchor=\"middle\" x=\"631\" y=\"-362.8\">gini = 0.398</text>\n<text fill=\"#000000\" font-family=\"Times,serif\" font-size=\"14.00\" text-anchor=\"middle\" x=\"631\" y=\"-347.8\">samples = 233</text>\n<text fill=\"#000000\" font-family=\"Times,serif\" font-size=\"14.00\" text-anchor=\"middle\" x=\"631\" y=\"-332.8\">value = [64, 169]</text>\n<text fill=\"#000000\" font-family=\"Times,serif\" font-size=\"14.00\" text-anchor=\"middle\" x=\"631\" y=\"-317.8\">class = 1</text>\n</g>\n<!-- 0&#45;&gt;186 -->\n<g class=\"edge\" id=\"edge14\">\n<title>0-&gt;186</title>\n<path d=\"M541.2657,-428.8796C552.1278,-419.513 563.7456,-409.4948 574.8973,-399.8784\" fill=\"none\" stroke=\"#000000\"/>\n<polygon fill=\"#000000\" points=\"577.2408,-402.4792 582.5283,-393.2981 572.6694,-397.178 577.2408,-402.4792\" stroke=\"#000000\"/>\n<text fill=\"#000000\" font-family=\"Times,serif\" font-size=\"14.00\" text-anchor=\"middle\" x=\"580.6851\" y=\"-414.53\">False</text>\n</g>\n<!-- 2 -->\n<g class=\"node\" id=\"node3\">\n<title>2</title>\n<polygon fill=\"#92c9f1\" points=\"219,-274 117,-274 117,-191 219,-191 219,-274\" stroke=\"#000000\"/>\n<text fill=\"#000000\" font-family=\"Times,serif\" font-size=\"14.00\" text-anchor=\"middle\" x=\"168\" y=\"-258.8\">X[2] &lt;= 2.5</text>\n<text fill=\"#000000\" font-family=\"Times,serif\" font-size=\"14.00\" text-anchor=\"middle\" x=\"168\" y=\"-243.8\">gini = 0.428</text>\n<text fill=\"#000000\" font-family=\"Times,serif\" font-size=\"14.00\" text-anchor=\"middle\" x=\"168\" y=\"-228.8\">samples = 29</text>\n<text fill=\"#000000\" font-family=\"Times,serif\" font-size=\"14.00\" text-anchor=\"middle\" x=\"168\" y=\"-213.8\">value = [9, 20]</text>\n<text fill=\"#000000\" font-family=\"Times,serif\" font-size=\"14.00\" text-anchor=\"middle\" x=\"168\" y=\"-198.8\">class = 1</text>\n</g>\n<!-- 1&#45;&gt;2 -->\n<g class=\"edge\" id=\"edge2\">\n<title>1-&gt;2</title>\n<path d=\"M306.4269,-316.1183C281.5701,-301.1032 252.6299,-283.6216 227.6564,-268.5361\" fill=\"none\" stroke=\"#000000\"/>\n<polygon fill=\"#000000\" points=\"229.3709,-265.4828 219.0016,-263.3081 225.7515,-271.4745 229.3709,-265.4828\" stroke=\"#000000\"/>\n</g>\n<!-- 9 -->\n<g class=\"node\" id=\"node8\">\n<title>9</title>\n<polygon fill=\"#e9965a\" points=\"423.5,-274 306.5,-274 306.5,-191 423.5,-191 423.5,-274\" stroke=\"#000000\"/>\n<text fill=\"#000000\" font-family=\"Times,serif\" font-size=\"14.00\" text-anchor=\"middle\" x=\"365\" y=\"-258.8\">X[0] &lt;= 1.5</text>\n<text fill=\"#000000\" font-family=\"Times,serif\" font-size=\"14.00\" text-anchor=\"middle\" x=\"365\" y=\"-243.8\">gini = 0.245</text>\n<text fill=\"#000000\" font-family=\"Times,serif\" font-size=\"14.00\" text-anchor=\"middle\" x=\"365\" y=\"-228.8\">samples = 406</text>\n<text fill=\"#000000\" font-family=\"Times,serif\" font-size=\"14.00\" text-anchor=\"middle\" x=\"365\" y=\"-213.8\">value = [348, 58]</text>\n<text fill=\"#000000\" font-family=\"Times,serif\" font-size=\"14.00\" text-anchor=\"middle\" x=\"365\" y=\"-198.8\">class = 0</text>\n</g>\n<!-- 1&#45;&gt;9 -->\n<g class=\"edge\" id=\"edge7\">\n<title>1-&gt;9</title>\n<path d=\"M365,-309.8796C365,-301.6838 365,-292.9891 365,-284.5013\" fill=\"none\" stroke=\"#000000\"/>\n<polygon fill=\"#000000\" points=\"368.5001,-284.298 365,-274.2981 361.5001,-284.2981 368.5001,-284.298\" stroke=\"#000000\"/>\n</g>\n<!-- 3 -->\n<g class=\"node\" id=\"node4\">\n<title>3</title>\n<polygon fill=\"#399de5\" points=\"102,-147.5 0,-147.5 0,-79.5 102,-79.5 102,-147.5\" stroke=\"#000000\"/>\n<text fill=\"#000000\" font-family=\"Times,serif\" font-size=\"14.00\" text-anchor=\"middle\" x=\"51\" y=\"-132.3\">gini = 0.0</text>\n<text fill=\"#000000\" font-family=\"Times,serif\" font-size=\"14.00\" text-anchor=\"middle\" x=\"51\" y=\"-117.3\">samples = 19</text>\n<text fill=\"#000000\" font-family=\"Times,serif\" font-size=\"14.00\" text-anchor=\"middle\" x=\"51\" y=\"-102.3\">value = [0, 19]</text>\n<text fill=\"#000000\" font-family=\"Times,serif\" font-size=\"14.00\" text-anchor=\"middle\" x=\"51\" y=\"-87.3\">class = 1</text>\n</g>\n<!-- 2&#45;&gt;3 -->\n<g class=\"edge\" id=\"edge3\">\n<title>2-&gt;3</title>\n<path d=\"M127.0791,-190.8796C115.7272,-179.3337 103.4018,-166.7976 92.043,-155.2446\" fill=\"none\" stroke=\"#000000\"/>\n<polygon fill=\"#000000\" points=\"94.2449,-152.4919 84.7382,-147.8149 89.2534,-157.3995 94.2449,-152.4919\" stroke=\"#000000\"/>\n</g>\n<!-- 4 -->\n<g class=\"node\" id=\"node5\">\n<title>4</title>\n<polygon fill=\"#e88f4f\" points=\"215.5,-155 120.5,-155 120.5,-72 215.5,-72 215.5,-155\" stroke=\"#000000\"/>\n<text fill=\"#000000\" font-family=\"Times,serif\" font-size=\"14.00\" text-anchor=\"middle\" x=\"168\" y=\"-139.8\">X[1] &lt;= 3.5</text>\n<text fill=\"#000000\" font-family=\"Times,serif\" font-size=\"14.00\" text-anchor=\"middle\" x=\"168\" y=\"-124.8\">gini = 0.18</text>\n<text fill=\"#000000\" font-family=\"Times,serif\" font-size=\"14.00\" text-anchor=\"middle\" x=\"168\" y=\"-109.8\">samples = 10</text>\n<text fill=\"#000000\" font-family=\"Times,serif\" font-size=\"14.00\" text-anchor=\"middle\" x=\"168\" y=\"-94.8\">value = [9, 1]</text>\n<text fill=\"#000000\" font-family=\"Times,serif\" font-size=\"14.00\" text-anchor=\"middle\" x=\"168\" y=\"-79.8\">class = 0</text>\n</g>\n<!-- 2&#45;&gt;4 -->\n<g class=\"edge\" id=\"edge4\">\n<title>2-&gt;4</title>\n<path d=\"M168,-190.8796C168,-182.6838 168,-173.9891 168,-165.5013\" fill=\"none\" stroke=\"#000000\"/>\n<polygon fill=\"#000000\" points=\"171.5001,-165.298 168,-155.2981 164.5001,-165.2981 171.5001,-165.298\" stroke=\"#000000\"/>\n</g>\n<!-- 5 -->\n<g class=\"node\" id=\"node6\">\n<title>5</title>\n<polygon fill=\"#c0c0c0\" points=\"123,-36 69,-36 69,0 123,0 123,-36\" stroke=\"#000000\"/>\n<text fill=\"#000000\" font-family=\"Times,serif\" font-size=\"14.00\" text-anchor=\"middle\" x=\"96\" y=\"-14.3\">(...)</text>\n</g>\n<!-- 4&#45;&gt;5 -->\n<g class=\"edge\" id=\"edge5\">\n<title>4-&gt;5</title>\n<path d=\"M136.6292,-71.8901C129.5806,-62.541 122.2913,-52.8725 115.8664,-44.3506\" fill=\"none\" stroke=\"#000000\"/>\n<polygon fill=\"#000000\" points=\"118.5854,-42.143 109.7705,-36.2651 112.9959,-46.3571 118.5854,-42.143\" stroke=\"#000000\"/>\n</g>\n<!-- 8 -->\n<g class=\"node\" id=\"node7\">\n<title>8</title>\n<polygon fill=\"#c0c0c0\" points=\"195,-36 141,-36 141,0 195,0 195,-36\" stroke=\"#000000\"/>\n<text fill=\"#000000\" font-family=\"Times,serif\" font-size=\"14.00\" text-anchor=\"middle\" x=\"168\" y=\"-14.3\">(...)</text>\n</g>\n<!-- 4&#45;&gt;8 -->\n<g class=\"edge\" id=\"edge6\">\n<title>4-&gt;8</title>\n<path d=\"M168,-71.8901C168,-63.3201 168,-54.4817 168,-46.5041\" fill=\"none\" stroke=\"#000000\"/>\n<polygon fill=\"#000000\" points=\"171.5001,-46.2651 168,-36.2651 164.5001,-46.2651 171.5001,-46.2651\" stroke=\"#000000\"/>\n</g>\n<!-- 10 -->\n<g class=\"node\" id=\"node9\">\n<title>10</title>\n<polygon fill=\"#f1bd97\" points=\"360,-155 250,-155 250,-72 360,-72 360,-155\" stroke=\"#000000\"/>\n<text fill=\"#000000\" font-family=\"Times,serif\" font-size=\"14.00\" text-anchor=\"middle\" x=\"305\" y=\"-139.8\">X[4] &lt;= 26.144</text>\n<text fill=\"#000000\" font-family=\"Times,serif\" font-size=\"14.00\" text-anchor=\"middle\" x=\"305\" y=\"-124.8\">gini = 0.437</text>\n<text fill=\"#000000\" font-family=\"Times,serif\" font-size=\"14.00\" text-anchor=\"middle\" x=\"305\" y=\"-109.8\">samples = 87</text>\n<text fill=\"#000000\" font-family=\"Times,serif\" font-size=\"14.00\" text-anchor=\"middle\" x=\"305\" y=\"-94.8\">value = [59, 28]</text>\n<text fill=\"#000000\" font-family=\"Times,serif\" font-size=\"14.00\" text-anchor=\"middle\" x=\"305\" y=\"-79.8\">class = 0</text>\n</g>\n<!-- 9&#45;&gt;10 -->\n<g class=\"edge\" id=\"edge8\">\n<title>9-&gt;10</title>\n<path d=\"M344.0149,-190.8796C339.701,-182.3236 335.1128,-173.2238 330.6554,-164.3833\" fill=\"none\" stroke=\"#000000\"/>\n<polygon fill=\"#000000\" points=\"333.7021,-162.6515 326.0747,-155.2981 327.4516,-165.8031 333.7021,-162.6515\" stroke=\"#000000\"/>\n</g>\n<!-- 75 -->\n<g class=\"node\" id=\"node12\">\n<title>75</title>\n<polygon fill=\"#e88e4e\" points=\"495.5,-155 378.5,-155 378.5,-72 495.5,-72 495.5,-155\" stroke=\"#000000\"/>\n<text fill=\"#000000\" font-family=\"Times,serif\" font-size=\"14.00\" text-anchor=\"middle\" x=\"437\" y=\"-139.8\">X[4] &lt;= 15.373</text>\n<text fill=\"#000000\" font-family=\"Times,serif\" font-size=\"14.00\" text-anchor=\"middle\" x=\"437\" y=\"-124.8\">gini = 0.17</text>\n<text fill=\"#000000\" font-family=\"Times,serif\" font-size=\"14.00\" text-anchor=\"middle\" x=\"437\" y=\"-109.8\">samples = 319</text>\n<text fill=\"#000000\" font-family=\"Times,serif\" font-size=\"14.00\" text-anchor=\"middle\" x=\"437\" y=\"-94.8\">value = [289, 30]</text>\n<text fill=\"#000000\" font-family=\"Times,serif\" font-size=\"14.00\" text-anchor=\"middle\" x=\"437\" y=\"-79.8\">class = 0</text>\n</g>\n<!-- 9&#45;&gt;75 -->\n<g class=\"edge\" id=\"edge11\">\n<title>9-&gt;75</title>\n<path d=\"M390.1821,-190.8796C395.4133,-182.2335 400.9805,-173.0322 406.3823,-164.1042\" fill=\"none\" stroke=\"#000000\"/>\n<polygon fill=\"#000000\" points=\"409.5283,-165.6658 411.7104,-155.2981 403.5392,-162.0421 409.5283,-165.6658\" stroke=\"#000000\"/>\n</g>\n<!-- 11 -->\n<g class=\"node\" id=\"node10\">\n<title>11</title>\n<polygon fill=\"#c0c0c0\" points=\"267,-36 213,-36 213,0 267,0 267,-36\" stroke=\"#000000\"/>\n<text fill=\"#000000\" font-family=\"Times,serif\" font-size=\"14.00\" text-anchor=\"middle\" x=\"240\" y=\"-14.3\">(...)</text>\n</g>\n<!-- 10&#45;&gt;11 -->\n<g class=\"edge\" id=\"edge9\">\n<title>10-&gt;11</title>\n<path d=\"M276.6791,-71.8901C270.3821,-62.6384 263.8723,-53.0739 258.1165,-44.6173\" fill=\"none\" stroke=\"#000000\"/>\n<polygon fill=\"#000000\" points=\"260.9518,-42.5626 252.4317,-36.2651 255.165,-46.5013 260.9518,-42.5626\" stroke=\"#000000\"/>\n</g>\n<!-- 12 -->\n<g class=\"node\" id=\"node11\">\n<title>12</title>\n<polygon fill=\"#c0c0c0\" points=\"339,-36 285,-36 285,0 339,0 339,-36\" stroke=\"#000000\"/>\n<text fill=\"#000000\" font-family=\"Times,serif\" font-size=\"14.00\" text-anchor=\"middle\" x=\"312\" y=\"-14.3\">(...)</text>\n</g>\n<!-- 10&#45;&gt;12 -->\n<g class=\"edge\" id=\"edge10\">\n<title>10-&gt;12</title>\n<path d=\"M308.0499,-71.8901C308.6781,-63.3201 309.3259,-54.4817 309.9107,-46.5041\" fill=\"none\" stroke=\"#000000\"/>\n<polygon fill=\"#000000\" points=\"313.4207,-46.4942 310.6612,-36.2651 306.4394,-45.9825 313.4207,-46.4942\" stroke=\"#000000\"/>\n</g>\n<!-- 76 -->\n<g class=\"node\" id=\"node13\">\n<title>76</title>\n<polygon fill=\"#c0c0c0\" points=\"411,-36 357,-36 357,0 411,0 411,-36\" stroke=\"#000000\"/>\n<text fill=\"#000000\" font-family=\"Times,serif\" font-size=\"14.00\" text-anchor=\"middle\" x=\"384\" y=\"-14.3\">(...)</text>\n</g>\n<!-- 75&#45;&gt;76 -->\n<g class=\"edge\" id=\"edge12\">\n<title>75-&gt;76</title>\n<path d=\"M413.9076,-71.8901C408.8812,-62.8331 403.6885,-53.4765 399.0691,-45.1528\" fill=\"none\" stroke=\"#000000\"/>\n<polygon fill=\"#000000\" points=\"402.0496,-43.3104 394.1367,-36.2651 395.9289,-46.7073 402.0496,-43.3104\" stroke=\"#000000\"/>\n</g>\n<!-- 179 -->\n<g class=\"node\" id=\"node14\">\n<title>179</title>\n<polygon fill=\"#c0c0c0\" points=\"483,-36 429,-36 429,0 483,0 483,-36\" stroke=\"#000000\"/>\n<text fill=\"#000000\" font-family=\"Times,serif\" font-size=\"14.00\" text-anchor=\"middle\" x=\"456\" y=\"-14.3\">(...)</text>\n</g>\n<!-- 75&#45;&gt;179 -->\n<g class=\"edge\" id=\"edge13\">\n<title>75-&gt;179</title>\n<path d=\"M445.2784,-71.8901C447.0028,-63.2227 448.7818,-54.2808 450.3831,-46.2325\" fill=\"none\" stroke=\"#000000\"/>\n<polygon fill=\"#000000\" points=\"453.8475,-46.7559 452.3661,-36.2651 446.982,-45.3899 453.8475,-46.7559\" stroke=\"#000000\"/>\n</g>\n<!-- 187 -->\n<g class=\"node\" id=\"node16\">\n<title>187</title>\n<polygon fill=\"#45a3e7\" points=\"685.5,-274 576.5,-274 576.5,-191 685.5,-191 685.5,-274\" stroke=\"#000000\"/>\n<text fill=\"#000000\" font-family=\"Times,serif\" font-size=\"14.00\" text-anchor=\"middle\" x=\"631\" y=\"-258.8\">X[1] &lt;= 2.5</text>\n<text fill=\"#000000\" font-family=\"Times,serif\" font-size=\"14.00\" text-anchor=\"middle\" x=\"631\" y=\"-243.8\">gini = 0.105</text>\n<text fill=\"#000000\" font-family=\"Times,serif\" font-size=\"14.00\" text-anchor=\"middle\" x=\"631\" y=\"-228.8\">samples = 126</text>\n<text fill=\"#000000\" font-family=\"Times,serif\" font-size=\"14.00\" text-anchor=\"middle\" x=\"631\" y=\"-213.8\">value = [7, 119]</text>\n<text fill=\"#000000\" font-family=\"Times,serif\" font-size=\"14.00\" text-anchor=\"middle\" x=\"631\" y=\"-198.8\">class = 1</text>\n</g>\n<!-- 186&#45;&gt;187 -->\n<g class=\"edge\" id=\"edge15\">\n<title>186-&gt;187</title>\n<path d=\"M631,-309.8796C631,-301.6838 631,-292.9891 631,-284.5013\" fill=\"none\" stroke=\"#000000\"/>\n<polygon fill=\"#000000\" points=\"634.5001,-284.298 631,-274.2981 627.5001,-284.2981 634.5001,-284.298\" stroke=\"#000000\"/>\n</g>\n<!-- 220 -->\n<g class=\"node\" id=\"node23\">\n<title>220</title>\n<polygon fill=\"#fcf0e7\" points=\"879,-274 769,-274 769,-191 879,-191 879,-274\" stroke=\"#000000\"/>\n<text fill=\"#000000\" font-family=\"Times,serif\" font-size=\"14.00\" text-anchor=\"middle\" x=\"824\" y=\"-258.8\">X[4] &lt;= 23.35</text>\n<text fill=\"#000000\" font-family=\"Times,serif\" font-size=\"14.00\" text-anchor=\"middle\" x=\"824\" y=\"-243.8\">gini = 0.498</text>\n<text fill=\"#000000\" font-family=\"Times,serif\" font-size=\"14.00\" text-anchor=\"middle\" x=\"824\" y=\"-228.8\">samples = 107</text>\n<text fill=\"#000000\" font-family=\"Times,serif\" font-size=\"14.00\" text-anchor=\"middle\" x=\"824\" y=\"-213.8\">value = [57, 50]</text>\n<text fill=\"#000000\" font-family=\"Times,serif\" font-size=\"14.00\" text-anchor=\"middle\" x=\"824\" y=\"-198.8\">class = 0</text>\n</g>\n<!-- 186&#45;&gt;220 -->\n<g class=\"edge\" id=\"edge22\">\n<title>186-&gt;220</title>\n<path d=\"M689.6924,-315.3114C712.0153,-301.5476 737.5443,-285.8069 760.3084,-271.771\" fill=\"none\" stroke=\"#000000\"/>\n<polygon fill=\"#000000\" points=\"762.2101,-274.7103 768.8852,-266.4827 758.5362,-268.7519 762.2101,-274.7103\" stroke=\"#000000\"/>\n</g>\n<!-- 188 -->\n<g class=\"node\" id=\"node17\">\n<title>188</title>\n<polygon fill=\"#ffffff\" points=\"618.5,-155 523.5,-155 523.5,-72 618.5,-72 618.5,-155\" stroke=\"#000000\"/>\n<text fill=\"#000000\" font-family=\"Times,serif\" font-size=\"14.00\" text-anchor=\"middle\" x=\"571\" y=\"-139.8\">X[3] &lt;= 1.5</text>\n<text fill=\"#000000\" font-family=\"Times,serif\" font-size=\"14.00\" text-anchor=\"middle\" x=\"571\" y=\"-124.8\">gini = 0.5</text>\n<text fill=\"#000000\" font-family=\"Times,serif\" font-size=\"14.00\" text-anchor=\"middle\" x=\"571\" y=\"-109.8\">samples = 2</text>\n<text fill=\"#000000\" font-family=\"Times,serif\" font-size=\"14.00\" text-anchor=\"middle\" x=\"571\" y=\"-94.8\">value = [1, 1]</text>\n<text fill=\"#000000\" font-family=\"Times,serif\" font-size=\"14.00\" text-anchor=\"middle\" x=\"571\" y=\"-79.8\">class = 0</text>\n</g>\n<!-- 187&#45;&gt;188 -->\n<g class=\"edge\" id=\"edge16\">\n<title>187-&gt;188</title>\n<path d=\"M610.0149,-190.8796C605.701,-182.3236 601.1128,-173.2238 596.6554,-164.3833\" fill=\"none\" stroke=\"#000000\"/>\n<polygon fill=\"#000000\" points=\"599.7021,-162.6515 592.0747,-155.2981 593.4516,-165.8031 599.7021,-162.6515\" stroke=\"#000000\"/>\n</g>\n<!-- 191 -->\n<g class=\"node\" id=\"node20\">\n<title>191</title>\n<polygon fill=\"#43a2e6\" points=\"745.5,-155 636.5,-155 636.5,-72 745.5,-72 745.5,-155\" stroke=\"#000000\"/>\n<text fill=\"#000000\" font-family=\"Times,serif\" font-size=\"14.00\" text-anchor=\"middle\" x=\"691\" y=\"-139.8\">X[4] &lt;= 28.856</text>\n<text fill=\"#000000\" font-family=\"Times,serif\" font-size=\"14.00\" text-anchor=\"middle\" x=\"691\" y=\"-124.8\">gini = 0.092</text>\n<text fill=\"#000000\" font-family=\"Times,serif\" font-size=\"14.00\" text-anchor=\"middle\" x=\"691\" y=\"-109.8\">samples = 124</text>\n<text fill=\"#000000\" font-family=\"Times,serif\" font-size=\"14.00\" text-anchor=\"middle\" x=\"691\" y=\"-94.8\">value = [6, 118]</text>\n<text fill=\"#000000\" font-family=\"Times,serif\" font-size=\"14.00\" text-anchor=\"middle\" x=\"691\" y=\"-79.8\">class = 1</text>\n</g>\n<!-- 187&#45;&gt;191 -->\n<g class=\"edge\" id=\"edge19\">\n<title>187-&gt;191</title>\n<path d=\"M651.9851,-190.8796C656.299,-182.3236 660.8872,-173.2238 665.3446,-164.3833\" fill=\"none\" stroke=\"#000000\"/>\n<polygon fill=\"#000000\" points=\"668.5484,-165.8031 669.9253,-155.2981 662.2979,-162.6515 668.5484,-165.8031\" stroke=\"#000000\"/>\n</g>\n<!-- 189 -->\n<g class=\"node\" id=\"node18\">\n<title>189</title>\n<polygon fill=\"#c0c0c0\" points=\"555,-36 501,-36 501,0 555,0 555,-36\" stroke=\"#000000\"/>\n<text fill=\"#000000\" font-family=\"Times,serif\" font-size=\"14.00\" text-anchor=\"middle\" x=\"528\" y=\"-14.3\">(...)</text>\n</g>\n<!-- 188&#45;&gt;189 -->\n<g class=\"edge\" id=\"edge17\">\n<title>188-&gt;189</title>\n<path d=\"M552.2647,-71.8901C548.2305,-62.9305 544.0643,-53.6777 540.3469,-45.4217\" fill=\"none\" stroke=\"#000000\"/>\n<polygon fill=\"#000000\" points=\"543.5212,-43.9464 536.2241,-36.2651 537.1384,-46.8204 543.5212,-43.9464\" stroke=\"#000000\"/>\n</g>\n<!-- 190 -->\n<g class=\"node\" id=\"node19\">\n<title>190</title>\n<polygon fill=\"#c0c0c0\" points=\"627,-36 573,-36 573,0 627,0 627,-36\" stroke=\"#000000\"/>\n<text fill=\"#000000\" font-family=\"Times,serif\" font-size=\"14.00\" text-anchor=\"middle\" x=\"600\" y=\"-14.3\">(...)</text>\n</g>\n<!-- 188&#45;&gt;190 -->\n<g class=\"edge\" id=\"edge18\">\n<title>188-&gt;190</title>\n<path d=\"M583.6355,-71.8901C586.297,-63.1253 589.0438,-54.0798 591.5091,-45.9615\" fill=\"none\" stroke=\"#000000\"/>\n<polygon fill=\"#000000\" points=\"594.8968,-46.8507 594.4535,-36.2651 588.1988,-44.8167 594.8968,-46.8507\" stroke=\"#000000\"/>\n</g>\n<!-- 192 -->\n<g class=\"node\" id=\"node21\">\n<title>192</title>\n<polygon fill=\"#c0c0c0\" points=\"699,-36 645,-36 645,0 699,0 699,-36\" stroke=\"#000000\"/>\n<text fill=\"#000000\" font-family=\"Times,serif\" font-size=\"14.00\" text-anchor=\"middle\" x=\"672\" y=\"-14.3\">(...)</text>\n</g>\n<!-- 191&#45;&gt;192 -->\n<g class=\"edge\" id=\"edge20\">\n<title>191-&gt;192</title>\n<path d=\"M682.7216,-71.8901C680.9972,-63.2227 679.2182,-54.2808 677.6169,-46.2325\" fill=\"none\" stroke=\"#000000\"/>\n<polygon fill=\"#000000\" points=\"681.018,-45.3899 675.6339,-36.2651 674.1525,-46.7559 681.018,-45.3899\" stroke=\"#000000\"/>\n</g>\n<!-- 219 -->\n<g class=\"node\" id=\"node22\">\n<title>219</title>\n<polygon fill=\"#c0c0c0\" points=\"771,-36 717,-36 717,0 771,0 771,-36\" stroke=\"#000000\"/>\n<text fill=\"#000000\" font-family=\"Times,serif\" font-size=\"14.00\" text-anchor=\"middle\" x=\"744\" y=\"-14.3\">(...)</text>\n</g>\n<!-- 191&#45;&gt;219 -->\n<g class=\"edge\" id=\"edge21\">\n<title>191-&gt;219</title>\n<path d=\"M714.0924,-71.8901C719.1188,-62.8331 724.3115,-53.4765 728.9309,-45.1528\" fill=\"none\" stroke=\"#000000\"/>\n<polygon fill=\"#000000\" points=\"732.0711,-46.7073 733.8633,-36.2651 725.9504,-43.3104 732.0711,-46.7073\" stroke=\"#000000\"/>\n</g>\n<!-- 221 -->\n<g class=\"node\" id=\"node24\">\n<title>221</title>\n<polygon fill=\"#d6ebfa\" points=\"879,-155 769,-155 769,-72 879,-72 879,-155\" stroke=\"#000000\"/>\n<text fill=\"#000000\" font-family=\"Times,serif\" font-size=\"14.00\" text-anchor=\"middle\" x=\"824\" y=\"-139.8\">X[1] &lt;= 28.5</text>\n<text fill=\"#000000\" font-family=\"Times,serif\" font-size=\"14.00\" text-anchor=\"middle\" x=\"824\" y=\"-124.8\">gini = 0.493</text>\n<text fill=\"#000000\" font-family=\"Times,serif\" font-size=\"14.00\" text-anchor=\"middle\" x=\"824\" y=\"-109.8\">samples = 86</text>\n<text fill=\"#000000\" font-family=\"Times,serif\" font-size=\"14.00\" text-anchor=\"middle\" x=\"824\" y=\"-94.8\">value = [38, 48]</text>\n<text fill=\"#000000\" font-family=\"Times,serif\" font-size=\"14.00\" text-anchor=\"middle\" x=\"824\" y=\"-79.8\">class = 1</text>\n</g>\n<!-- 220&#45;&gt;221 -->\n<g class=\"edge\" id=\"edge23\">\n<title>220-&gt;221</title>\n<path d=\"M824,-190.8796C824,-182.6838 824,-173.9891 824,-165.5013\" fill=\"none\" stroke=\"#000000\"/>\n<polygon fill=\"#000000\" points=\"827.5001,-165.298 824,-155.2981 820.5001,-165.2981 827.5001,-165.298\" stroke=\"#000000\"/>\n</g>\n<!-- 292 -->\n<g class=\"node\" id=\"node27\">\n<title>292</title>\n<polygon fill=\"#e88e4e\" points=\"1011,-155 909,-155 909,-72 1011,-72 1011,-155\" stroke=\"#000000\"/>\n<text fill=\"#000000\" font-family=\"Times,serif\" font-size=\"14.00\" text-anchor=\"middle\" x=\"960\" y=\"-139.8\">X[3] &lt;= 0.5</text>\n<text fill=\"#000000\" font-family=\"Times,serif\" font-size=\"14.00\" text-anchor=\"middle\" x=\"960\" y=\"-124.8\">gini = 0.172</text>\n<text fill=\"#000000\" font-family=\"Times,serif\" font-size=\"14.00\" text-anchor=\"middle\" x=\"960\" y=\"-109.8\">samples = 21</text>\n<text fill=\"#000000\" font-family=\"Times,serif\" font-size=\"14.00\" text-anchor=\"middle\" x=\"960\" y=\"-94.8\">value = [19, 2]</text>\n<text fill=\"#000000\" font-family=\"Times,serif\" font-size=\"14.00\" text-anchor=\"middle\" x=\"960\" y=\"-79.8\">class = 0</text>\n</g>\n<!-- 220&#45;&gt;292 -->\n<g class=\"edge\" id=\"edge26\">\n<title>220-&gt;292</title>\n<path d=\"M871.5662,-190.8796C882.1679,-181.6031 893.5002,-171.6874 904.3933,-162.1559\" fill=\"none\" stroke=\"#000000\"/>\n<polygon fill=\"#000000\" points=\"907.0098,-164.5172 912.2308,-155.2981 902.4002,-159.2491 907.0098,-164.5172\" stroke=\"#000000\"/>\n</g>\n<!-- 222 -->\n<g class=\"node\" id=\"node25\">\n<title>222</title>\n<polygon fill=\"#c0c0c0\" points=\"843,-36 789,-36 789,0 843,0 843,-36\" stroke=\"#000000\"/>\n<text fill=\"#000000\" font-family=\"Times,serif\" font-size=\"14.00\" text-anchor=\"middle\" x=\"816\" y=\"-14.3\">(...)</text>\n</g>\n<!-- 221&#45;&gt;222 -->\n<g class=\"edge\" id=\"edge24\">\n<title>221-&gt;222</title>\n<path d=\"M820.5144,-71.8901C819.7883,-63.2227 819.0392,-54.2808 818.365,-46.2325\" fill=\"none\" stroke=\"#000000\"/>\n<polygon fill=\"#000000\" points=\"821.8527,-45.938 817.5301,-36.2651 814.8771,-46.5224 821.8527,-45.938\" stroke=\"#000000\"/>\n</g>\n<!-- 275 -->\n<g class=\"node\" id=\"node26\">\n<title>275</title>\n<polygon fill=\"#c0c0c0\" points=\"915,-36 861,-36 861,0 915,0 915,-36\" stroke=\"#000000\"/>\n<text fill=\"#000000\" font-family=\"Times,serif\" font-size=\"14.00\" text-anchor=\"middle\" x=\"888\" y=\"-14.3\">(...)</text>\n</g>\n<!-- 221&#45;&gt;275 -->\n<g class=\"edge\" id=\"edge25\">\n<title>221-&gt;275</title>\n<path d=\"M851.8852,-71.8901C858.0853,-62.6384 864.495,-53.0739 870.1623,-44.6173\" fill=\"none\" stroke=\"#000000\"/>\n<polygon fill=\"#000000\" points=\"873.0999,-46.5207 875.7595,-36.2651 867.2849,-42.6237 873.0999,-46.5207\" stroke=\"#000000\"/>\n</g>\n<!-- 293 -->\n<g class=\"node\" id=\"node28\">\n<title>293</title>\n<polygon fill=\"#c0c0c0\" points=\"987,-36 933,-36 933,0 987,0 987,-36\" stroke=\"#000000\"/>\n<text fill=\"#000000\" font-family=\"Times,serif\" font-size=\"14.00\" text-anchor=\"middle\" x=\"960\" y=\"-14.3\">(...)</text>\n</g>\n<!-- 292&#45;&gt;293 -->\n<g class=\"edge\" id=\"edge27\">\n<title>292-&gt;293</title>\n<path d=\"M960,-71.8901C960,-63.3201 960,-54.4817 960,-46.5041\" fill=\"none\" stroke=\"#000000\"/>\n<polygon fill=\"#000000\" points=\"963.5001,-46.2651 960,-36.2651 956.5001,-46.2651 963.5001,-46.2651\" stroke=\"#000000\"/>\n</g>\n<!-- 294 -->\n<g class=\"node\" id=\"node29\">\n<title>294</title>\n<polygon fill=\"#c0c0c0\" points=\"1059,-36 1005,-36 1005,0 1059,0 1059,-36\" stroke=\"#000000\"/>\n<text fill=\"#000000\" font-family=\"Times,serif\" font-size=\"14.00\" text-anchor=\"middle\" x=\"1032\" y=\"-14.3\">(...)</text>\n</g>\n<!-- 292&#45;&gt;294 -->\n<g class=\"edge\" id=\"edge28\">\n<title>292-&gt;294</title>\n<path d=\"M991.3708,-71.8901C998.4194,-62.541 1005.7087,-52.8725 1012.1336,-44.3506\" fill=\"none\" stroke=\"#000000\"/>\n<polygon fill=\"#000000\" points=\"1015.0041,-46.3571 1018.2295,-36.2651 1009.4146,-42.143 1015.0041,-46.3571\" stroke=\"#000000\"/>\n</g>\n</g>\n</svg>"
          },
          "metadata": {
            "tags": []
          }
        }
      ]
    },
    {
      "cell_type": "code",
      "metadata": {
        "id": "wb7PXsrSgBeL"
      },
      "source": [
        ""
      ],
      "execution_count": null,
      "outputs": []
    }
  ]
}