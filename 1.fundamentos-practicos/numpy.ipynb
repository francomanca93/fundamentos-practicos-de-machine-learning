{
  "nbformat": 4,
  "nbformat_minor": 0,
  "metadata": {
    "colab": {
      "name": "numpy.ipynb",
      "provenance": [],
      "authorship_tag": "ABX9TyNZFmvkmCAgJE6CVXPnnT1D",
      "include_colab_link": true
    },
    "kernelspec": {
      "name": "python3",
      "display_name": "Python 3"
    }
  },
  "cells": [
    {
      "cell_type": "markdown",
      "metadata": {
        "id": "view-in-github",
        "colab_type": "text"
      },
      "source": [
        "<a href=\"https://colab.research.google.com/github/francomanca93/fundamentos-practicos-de-machine-learning/blob/main/1.fundamentos-practicos/numpy.ipynb\" target=\"_parent\"><img src=\"https://colab.research.google.com/assets/colab-badge.svg\" alt=\"Open In Colab\"/></a>"
      ]
    },
    {
      "cell_type": "code",
      "metadata": {
        "id": "5zz-dNhwjIdL"
      },
      "source": [
        "import numpy as np"
      ],
      "execution_count": 1,
      "outputs": []
    },
    {
      "cell_type": "markdown",
      "metadata": {
        "id": "Fz_bACnSqB2d"
      },
      "source": [
        "Array de 1 dimension"
      ]
    },
    {
      "cell_type": "code",
      "metadata": {
        "colab": {
          "base_uri": "https://localhost:8080/"
        },
        "id": "4ybXvN37j1WO",
        "outputId": "dbf6b9c3-4978-47cc-972b-14fc80936541"
      },
      "source": [
        "np.array([10, 20, 5, 15, 50])"
      ],
      "execution_count": 2,
      "outputs": [
        {
          "output_type": "execute_result",
          "data": {
            "text/plain": [
              "array([10, 20,  5, 15, 50])"
            ]
          },
          "metadata": {
            "tags": []
          },
          "execution_count": 2
        }
      ]
    },
    {
      "cell_type": "markdown",
      "metadata": {
        "id": "hYKixVd6qHdS"
      },
      "source": [
        "Buscar valores e intervalos de valores en un array, sin necesidad de utilizar un for loop."
      ]
    },
    {
      "cell_type": "code",
      "metadata": {
        "colab": {
          "base_uri": "https://localhost:8080/"
        },
        "id": "Jiz9_en4j6xD",
        "outputId": "ad785b71-e0e1-4c14-b87b-b143fa77d2c4"
      },
      "source": [
        "a = np.array([10, 30, 20, 4, 30, 51, 7, 2, 4, 40, 100])\n",
        "a[4]"
      ],
      "execution_count": 3,
      "outputs": [
        {
          "output_type": "execute_result",
          "data": {
            "text/plain": [
              "30"
            ]
          },
          "metadata": {
            "tags": []
          },
          "execution_count": 3
        }
      ]
    },
    {
      "cell_type": "code",
      "metadata": {
        "colab": {
          "base_uri": "https://localhost:8080/"
        },
        "id": "6NEyi13EkHZj",
        "outputId": "3c8c3365-dfb9-42f2-95ef-bb5b4043133f"
      },
      "source": [
        "a[3:]"
      ],
      "execution_count": 4,
      "outputs": [
        {
          "output_type": "execute_result",
          "data": {
            "text/plain": [
              "array([  4,  30,  51,   7,   2,   4,  40, 100])"
            ]
          },
          "metadata": {
            "tags": []
          },
          "execution_count": 4
        }
      ]
    },
    {
      "cell_type": "code",
      "metadata": {
        "colab": {
          "base_uri": "https://localhost:8080/"
        },
        "id": "Flg-FzTjkM4U",
        "outputId": "a1f42662-d260-4de1-badd-89335d6308dd"
      },
      "source": [
        "a[3:7]"
      ],
      "execution_count": 5,
      "outputs": [
        {
          "output_type": "execute_result",
          "data": {
            "text/plain": [
              "array([ 4, 30, 51,  7])"
            ]
          },
          "metadata": {
            "tags": []
          },
          "execution_count": 5
        }
      ]
    },
    {
      "cell_type": "markdown",
      "metadata": {
        "id": "ikNw9WdoqZry"
      },
      "source": [
        "Dame los valores que se encuentren se encuentre a partir de la posicion 1, vaya hasta el final \"::\" y que sea de 4 en 4."
      ]
    },
    {
      "cell_type": "code",
      "metadata": {
        "colab": {
          "base_uri": "https://localhost:8080/"
        },
        "id": "FWC3l8uHkQlz",
        "outputId": "7fef08c4-5e88-44c1-c634-ff72be0c70de"
      },
      "source": [
        "a[1::4]"
      ],
      "execution_count": 6,
      "outputs": [
        {
          "output_type": "execute_result",
          "data": {
            "text/plain": [
              "array([30, 51, 40])"
            ]
          },
          "metadata": {
            "tags": []
          },
          "execution_count": 6
        }
      ]
    },
    {
      "cell_type": "markdown",
      "metadata": {
        "id": "aqAezN0Wkgm_"
      },
      "source": [
        "Crear matrices de 0 y 1, de varias dimensiones."
      ]
    },
    {
      "cell_type": "code",
      "metadata": {
        "colab": {
          "base_uri": "https://localhost:8080/"
        },
        "id": "uXCcBYbtkUJC",
        "outputId": "4e3eea19-fed9-403e-e29b-4355cee8ab39"
      },
      "source": [
        "np.zeros(5)"
      ],
      "execution_count": 7,
      "outputs": [
        {
          "output_type": "execute_result",
          "data": {
            "text/plain": [
              "array([0., 0., 0., 0., 0.])"
            ]
          },
          "metadata": {
            "tags": []
          },
          "execution_count": 7
        }
      ]
    },
    {
      "cell_type": "code",
      "metadata": {
        "colab": {
          "base_uri": "https://localhost:8080/"
        },
        "id": "jq-1BoPAkfx8",
        "outputId": "d2560e29-e760-478e-ce34-c35455367c83"
      },
      "source": [
        "ones = np.ones((4, 5))\n",
        "ones"
      ],
      "execution_count": 10,
      "outputs": [
        {
          "output_type": "execute_result",
          "data": {
            "text/plain": [
              "array([[1., 1., 1., 1., 1.],\n",
              "       [1., 1., 1., 1., 1.],\n",
              "       [1., 1., 1., 1., 1.],\n",
              "       [1., 1., 1., 1., 1.]])"
            ]
          },
          "metadata": {
            "tags": []
          },
          "execution_count": 10
        }
      ]
    },
    {
      "cell_type": "code",
      "metadata": {
        "colab": {
          "base_uri": "https://localhost:8080/"
        },
        "id": "yt1yVbwnknND",
        "outputId": "f75bd1ce-66d8-4ec5-c85b-8835547e3815"
      },
      "source": [
        "type(ones)"
      ],
      "execution_count": 11,
      "outputs": [
        {
          "output_type": "execute_result",
          "data": {
            "text/plain": [
              "numpy.ndarray"
            ]
          },
          "metadata": {
            "tags": []
          },
          "execution_count": 11
        }
      ]
    },
    {
      "cell_type": "code",
      "metadata": {
        "colab": {
          "base_uri": "https://localhost:8080/"
        },
        "id": "5gZygsPdkqrV",
        "outputId": "0aa00c4a-98d9-47aa-852f-00a26c172327"
      },
      "source": [
        "type(ones[3])"
      ],
      "execution_count": 12,
      "outputs": [
        {
          "output_type": "execute_result",
          "data": {
            "text/plain": [
              "numpy.ndarray"
            ]
          },
          "metadata": {
            "tags": []
          },
          "execution_count": 12
        }
      ]
    },
    {
      "cell_type": "markdown",
      "metadata": {
        "id": "3KG65BAFrLSM"
      },
      "source": [
        "Crear matrices con intervalos y limites:\n",
        "\n",
        "np.linspace(limite inferior, limite superior, numero de valores)"
      ]
    },
    {
      "cell_type": "code",
      "metadata": {
        "colab": {
          "base_uri": "https://localhost:8080/"
        },
        "id": "bOThQv3ekzPF",
        "outputId": "7b59bcdb-580a-4df3-94ed-ad04957ebcf0"
      },
      "source": [
        "np.linspace(3, 10, 5)"
      ],
      "execution_count": 14,
      "outputs": [
        {
          "output_type": "execute_result",
          "data": {
            "text/plain": [
              "array([ 3.  ,  4.75,  6.5 ,  8.25, 10.  ])"
            ]
          },
          "metadata": {
            "tags": []
          },
          "execution_count": 14
        }
      ]
    },
    {
      "cell_type": "code",
      "metadata": {
        "colab": {
          "base_uri": "https://localhost:8080/"
        },
        "id": "3tfBIIfenznz",
        "outputId": "26e65438-f604-4bbd-a1d2-27df7f436572"
      },
      "source": [
        "b = np.array([['x', 'y', 'z'], ['a', 'c', 'e']])\n",
        "print(b)\n",
        "type(b)"
      ],
      "execution_count": 30,
      "outputs": [
        {
          "output_type": "stream",
          "text": [
            "[['x' 'y' 'z']\n",
            " ['a' 'c' 'e']]\n"
          ],
          "name": "stdout"
        },
        {
          "output_type": "execute_result",
          "data": {
            "text/plain": [
              "numpy.ndarray"
            ]
          },
          "metadata": {
            "tags": []
          },
          "execution_count": 30
        }
      ]
    },
    {
      "cell_type": "markdown",
      "metadata": {
        "id": "02kbi03TrkbE"
      },
      "source": [
        "Sabe las dimensiones"
      ]
    },
    {
      "cell_type": "code",
      "metadata": {
        "colab": {
          "base_uri": "https://localhost:8080/"
        },
        "id": "aFFvM_SwoEXl",
        "outputId": "94bdcafa-e02c-4f55-cb0d-54735c4204da"
      },
      "source": [
        "b.ndim"
      ],
      "execution_count": 17,
      "outputs": [
        {
          "output_type": "execute_result",
          "data": {
            "text/plain": [
              "2"
            ]
          },
          "metadata": {
            "tags": []
          },
          "execution_count": 17
        }
      ]
    },
    {
      "cell_type": "markdown",
      "metadata": {
        "id": "sjeCvpjgoTXu"
      },
      "source": [
        "Ordenando datos"
      ]
    },
    {
      "cell_type": "code",
      "metadata": {
        "colab": {
          "base_uri": "https://localhost:8080/"
        },
        "id": "NhPZR1h2oJrY",
        "outputId": "2c6ec030-52fa-4dc4-ee05-baa907d168da"
      },
      "source": [
        "c = [12, 4, 10, 40, 2]\n",
        "np.sort(c)"
      ],
      "execution_count": 18,
      "outputs": [
        {
          "output_type": "execute_result",
          "data": {
            "text/plain": [
              "array([ 2,  4, 10, 12, 40])"
            ]
          },
          "metadata": {
            "tags": []
          },
          "execution_count": 18
        }
      ]
    },
    {
      "cell_type": "markdown",
      "metadata": {
        "id": "DMr7HszVr21q"
      },
      "source": [
        "Podemos asignar una cabecera a nuestros valores de la siguiente manera:"
      ]
    },
    {
      "cell_type": "code",
      "metadata": {
        "colab": {
          "base_uri": "https://localhost:8080/"
        },
        "id": "iRXcloJwoRhk",
        "outputId": "236f8f81-2c60-40e3-d54a-42f14db1ceef"
      },
      "source": [
        "cabecera = [('nombre', 'S10'), ('edad', int)]\n",
        "datos = [('Juan', 10), ('Maria', 70), ('Javier', 42), ('Samuel', 15)]\n",
        "usuarios = np.array(datos, dtype = cabecera)\n",
        "\n",
        "np.sort(usuarios, order='edad')"
      ],
      "execution_count": 20,
      "outputs": [
        {
          "output_type": "execute_result",
          "data": {
            "text/plain": [
              "array([(b'Juan', 10), (b'Samuel', 15), (b'Javier', 42), (b'Maria', 70)],\n",
              "      dtype=[('nombre', 'S10'), ('edad', '<i8')])"
            ]
          },
          "metadata": {
            "tags": []
          },
          "execution_count": 20
        }
      ]
    },
    {
      "cell_type": "markdown",
      "metadata": {
        "id": "e3HpDZ9cpGfM"
      },
      "source": [
        "Llenar un array de manera dinamica"
      ]
    },
    {
      "cell_type": "code",
      "metadata": {
        "colab": {
          "base_uri": "https://localhost:8080/"
        },
        "id": "Vqo8dLhBo3la",
        "outputId": "019e4f9d-3190-4608-9f4a-3ee47d6f6669"
      },
      "source": [
        "np.arange(25)"
      ],
      "execution_count": 21,
      "outputs": [
        {
          "output_type": "execute_result",
          "data": {
            "text/plain": [
              "array([ 0,  1,  2,  3,  4,  5,  6,  7,  8,  9, 10, 11, 12, 13, 14, 15, 16,\n",
              "       17, 18, 19, 20, 21, 22, 23, 24])"
            ]
          },
          "metadata": {
            "tags": []
          },
          "execution_count": 21
        }
      ]
    },
    {
      "cell_type": "code",
      "metadata": {
        "colab": {
          "base_uri": "https://localhost:8080/"
        },
        "id": "waWO_eLBpFpR",
        "outputId": "43f182da-dd57-4a4c-cd2d-c9dd2d94d9e5"
      },
      "source": [
        "np.arange(5, 30)"
      ],
      "execution_count": 22,
      "outputs": [
        {
          "output_type": "execute_result",
          "data": {
            "text/plain": [
              "array([ 5,  6,  7,  8,  9, 10, 11, 12, 13, 14, 15, 16, 17, 18, 19, 20, 21,\n",
              "       22, 23, 24, 25, 26, 27, 28, 29])"
            ]
          },
          "metadata": {
            "tags": []
          },
          "execution_count": 22
        }
      ]
    },
    {
      "cell_type": "code",
      "metadata": {
        "colab": {
          "base_uri": "https://localhost:8080/"
        },
        "id": "xqmrgJafpLRY",
        "outputId": "a308d027-9fba-4c9a-a69c-311ae74a0948"
      },
      "source": [
        "np.arange(5, 10, 5)"
      ],
      "execution_count": 23,
      "outputs": [
        {
          "output_type": "execute_result",
          "data": {
            "text/plain": [
              "array([5])"
            ]
          },
          "metadata": {
            "tags": []
          },
          "execution_count": 23
        }
      ]
    },
    {
      "cell_type": "code",
      "metadata": {
        "colab": {
          "base_uri": "https://localhost:8080/"
        },
        "id": "NdVQr0aHpOp5",
        "outputId": "87b1cf27-4584-477a-9367-127893483588"
      },
      "source": [
        "np.full( (3, 5), 10 )"
      ],
      "execution_count": 24,
      "outputs": [
        {
          "output_type": "execute_result",
          "data": {
            "text/plain": [
              "array([[10, 10, 10, 10, 10],\n",
              "       [10, 10, 10, 10, 10],\n",
              "       [10, 10, 10, 10, 10]])"
            ]
          },
          "metadata": {
            "tags": []
          },
          "execution_count": 24
        }
      ]
    },
    {
      "cell_type": "code",
      "metadata": {
        "colab": {
          "base_uri": "https://localhost:8080/"
        },
        "id": "LZfTTG4UpWBX",
        "outputId": "e22af126-0c3f-473d-eb4c-6e5329fb4fe0"
      },
      "source": [
        "np.diag([0, 3, 9, 10])"
      ],
      "execution_count": 25,
      "outputs": [
        {
          "output_type": "execute_result",
          "data": {
            "text/plain": [
              "array([[ 0,  0,  0,  0],\n",
              "       [ 0,  3,  0,  0],\n",
              "       [ 0,  0,  9,  0],\n",
              "       [ 0,  0,  0, 10]])"
            ]
          },
          "metadata": {
            "tags": []
          },
          "execution_count": 25
        }
      ]
    },
    {
      "cell_type": "markdown",
      "metadata": {
        "id": "BvIhD0J_sB43"
      },
      "source": [
        "Resumen:\n",
        "\n",
        "- **np.zeros(<'dimension'>)** → crea un arreglo de dimensión indicada con todos los valores iguales a 0\n",
        "- **np.ones(<'dimension'>)** → crea un arreglo de dimensión indicada con todos los valores iguales a 1\n",
        "- **np.linspace(<'inicio'>,<'fin'>,<'n_datos'>)** → crea un arreglo de n datos igualmente espaciados con un inicio y fin indicados\n",
        "- **<'arreglo'>.ndim** → devuelve la dimensión del arreglo\n",
        "- **np.sort(arreglo)** → devuelve el arreglo ordenado (en caso de tener encabezado se puede usar el atributo order=’<'nombre_dato'>’)\n",
        "- **np.arrange(<'inicio'>,<'fin'>,<'pasos'>)** → crea un arreglo con inicio y fin dado aumentando el paso\n",
        "- **np.full(<'dimension'>,<'valores'>)** → crea un arreglo de la dimensión data cuyos componentes son llenados con los valores\n",
        "- **np.diag(<'diagonal'>,<'k'>)** → crea una matriz diagonal con los valores dados (k es opcional y determina el número de columnas (signo negativo) o filas(signo positivo) a aumentar en caso de que la matriz no sea cuadrada)\n"
      ]
    },
    {
      "cell_type": "code",
      "metadata": {
        "id": "ca-qgJhYpcso"
      },
      "source": [
        ""
      ],
      "execution_count": null,
      "outputs": []
    }
  ]
}