{
  "nbformat": 4,
  "nbformat_minor": 0,
  "metadata": {
    "colab": {
      "name": "regresión-lineal-simple-scikitlearn.ipynb",
      "provenance": [],
      "authorship_tag": "ABX9TyPWJeLByD9tJDzeOAfHjuVd",
      "include_colab_link": true
    },
    "kernelspec": {
      "name": "python3",
      "display_name": "Python 3"
    }
  },
  "cells": [
    {
      "cell_type": "markdown",
      "metadata": {
        "id": "view-in-github",
        "colab_type": "text"
      },
      "source": [
        "<a href=\"https://colab.research.google.com/github/francomanca93/fundamentos-practicos-de-machine-learning/blob/main/2.regresi%C3%B3n-lineal-y-logistica/regresi%C3%B3n_lineal_simple_scikitlearn.ipynb\" target=\"_parent\"><img src=\"https://colab.research.google.com/assets/colab-badge.svg\" alt=\"Open In Colab\"/></a>"
      ]
    },
    {
      "cell_type": "code",
      "metadata": {
        "id": "fwbWC8bK9O-e"
      },
      "source": [
        "import pandas as pd\n",
        "import matplotlib.pyplot as plt\n",
        "\n",
        "# Librerias para hacer la division de datos entre aprendizaje y entrenamiento\n",
        "from sklearn.model_selection import train_test_split\n",
        "from sklearn.linear_model import LinearRegression"
      ],
      "execution_count": null,
      "outputs": []
    },
    {
      "cell_type": "markdown",
      "metadata": {
        "id": "Gn8uAHHfEHPY"
      },
      "source": [
        "## Regresión lineal simple con Scikit-Learn: división de los datos"
      ]
    },
    {
      "cell_type": "code",
      "metadata": {
        "colab": {
          "base_uri": "https://localhost:8080/",
          "height": 206
        },
        "id": "EOcyNFcR-PMJ",
        "outputId": "b881d5ae-4bbb-4727-a637-bb20cd51d238"
      },
      "source": [
        "dataset = pd.read_csv('/content/salarios.csv')\n",
        "dataset.head(5)"
      ],
      "execution_count": null,
      "outputs": [
        {
          "output_type": "execute_result",
          "data": {
            "text/html": [
              "<div>\n",
              "<style scoped>\n",
              "    .dataframe tbody tr th:only-of-type {\n",
              "        vertical-align: middle;\n",
              "    }\n",
              "\n",
              "    .dataframe tbody tr th {\n",
              "        vertical-align: top;\n",
              "    }\n",
              "\n",
              "    .dataframe thead th {\n",
              "        text-align: right;\n",
              "    }\n",
              "</style>\n",
              "<table border=\"1\" class=\"dataframe\">\n",
              "  <thead>\n",
              "    <tr style=\"text-align: right;\">\n",
              "      <th></th>\n",
              "      <th>Aexperiencia</th>\n",
              "      <th>Salario</th>\n",
              "    </tr>\n",
              "  </thead>\n",
              "  <tbody>\n",
              "    <tr>\n",
              "      <th>0</th>\n",
              "      <td>10.0</td>\n",
              "      <td>42500</td>\n",
              "    </tr>\n",
              "    <tr>\n",
              "      <th>1</th>\n",
              "      <td>8.0</td>\n",
              "      <td>36302</td>\n",
              "    </tr>\n",
              "    <tr>\n",
              "      <th>2</th>\n",
              "      <td>5.4</td>\n",
              "      <td>35000</td>\n",
              "    </tr>\n",
              "    <tr>\n",
              "      <th>3</th>\n",
              "      <td>2.5</td>\n",
              "      <td>18103</td>\n",
              "    </tr>\n",
              "    <tr>\n",
              "      <th>4</th>\n",
              "      <td>1.0</td>\n",
              "      <td>15000</td>\n",
              "    </tr>\n",
              "  </tbody>\n",
              "</table>\n",
              "</div>"
            ],
            "text/plain": [
              "   Aexperiencia  Salario\n",
              "0          10.0    42500\n",
              "1           8.0    36302\n",
              "2           5.4    35000\n",
              "3           2.5    18103\n",
              "4           1.0    15000"
            ]
          },
          "metadata": {
            "tags": []
          },
          "execution_count": 4
        }
      ]
    },
    {
      "cell_type": "code",
      "metadata": {
        "colab": {
          "base_uri": "https://localhost:8080/"
        },
        "id": "McQbzXO6_ULU",
        "outputId": "170dc706-3409-43e5-83f1-f9a107b8cccf"
      },
      "source": [
        "dataset.shape"
      ],
      "execution_count": null,
      "outputs": [
        {
          "output_type": "execute_result",
          "data": {
            "text/plain": [
              "(30, 2)"
            ]
          },
          "metadata": {
            "tags": []
          },
          "execution_count": 5
        }
      ]
    },
    {
      "cell_type": "code",
      "metadata": {
        "id": "hTvkSfQB_fA-"
      },
      "source": [
        "x = dataset.iloc[:, :-1].values\n",
        "y = dataset.iloc[:, 1].values"
      ],
      "execution_count": null,
      "outputs": []
    },
    {
      "cell_type": "code",
      "metadata": {
        "id": "XKIzXweO_vTO"
      },
      "source": [
        "X_train, X_test, Y_train, Y_test = train_test_split(x, y, \n",
        "                                                    test_size = 0.2,\n",
        "                                                    random_state = 0)"
      ],
      "execution_count": null,
      "outputs": []
    },
    {
      "cell_type": "markdown",
      "metadata": {
        "id": "fXyDJPhQAvrn"
      },
      "source": [
        "- El parámetro **test_size** controla la cantidad de datos que serán destinados para test.\n",
        "\n",
        "- El parámetro **random_state** controla la combinación aleatoria aplicada a los datos antes de aplicar la división. El valor indica el número de veces que los valores se combinarán entre sí."
      ]
    },
    {
      "cell_type": "code",
      "metadata": {
        "colab": {
          "base_uri": "https://localhost:8080/"
        },
        "id": "2KJeuUCAATjP",
        "outputId": "9713c317-ede8-41c5-a5ec-ed912aa4dacf"
      },
      "source": [
        "X_train"
      ],
      "execution_count": null,
      "outputs": [
        {
          "output_type": "execute_result",
          "data": {
            "text/plain": [
              "array([[10. ],\n",
              "       [ 7. ],\n",
              "       [ 2. ],\n",
              "       [ 5.3],\n",
              "       [ 8. ],\n",
              "       [ 3. ],\n",
              "       [ 2. ],\n",
              "       [ 2. ],\n",
              "       [ 2.1],\n",
              "       [ 5. ],\n",
              "       [ 8. ],\n",
              "       [ 1. ],\n",
              "       [ 4. ],\n",
              "       [ 1. ],\n",
              "       [ 3. ],\n",
              "       [ 2. ],\n",
              "       [10. ],\n",
              "       [ 6. ],\n",
              "       [10. ],\n",
              "       [ 2.5],\n",
              "       [10. ],\n",
              "       [ 3.4],\n",
              "       [ 5. ],\n",
              "       [ 3. ]])"
            ]
          },
          "metadata": {
            "tags": []
          },
          "execution_count": 8
        }
      ]
    },
    {
      "cell_type": "markdown",
      "metadata": {
        "id": "HDHv7udLEPju"
      },
      "source": [
        "## Regresión lineal simple con Scikit-Learn: creación del modelo"
      ]
    },
    {
      "cell_type": "code",
      "metadata": {
        "colab": {
          "base_uri": "https://localhost:8080/"
        },
        "id": "AjIOabimAZii",
        "outputId": "0c5d2f7d-4dfb-40c0-9b45-3b1f56dc0742"
      },
      "source": [
        "regressor = LinearRegression()\n",
        "regressor.fit(X_train, Y_train)"
      ],
      "execution_count": null,
      "outputs": [
        {
          "output_type": "execute_result",
          "data": {
            "text/plain": [
              "LinearRegression(copy_X=True, fit_intercept=True, n_jobs=None, normalize=False)"
            ]
          },
          "metadata": {
            "tags": []
          },
          "execution_count": 10
        }
      ]
    },
    {
      "cell_type": "code",
      "metadata": {
        "colab": {
          "base_uri": "https://localhost:8080/",
          "height": 295
        },
        "id": "Q8oUByo2EmA_",
        "outputId": "67e76ec2-98f8-4122-bcac-1191d9a446e6"
      },
      "source": [
        "viz_train = plt\n",
        "viz_train.scatter(X_train, Y_train, color='blue')\n",
        "viz_train.plot(X_train, regressor.predict(X_train), color = 'black')\n",
        "viz_train.title('Salario vs Experiencia')\n",
        "viz_train.xlabel('Experiencia')\n",
        "viz_train.ylabel('Salario')\n",
        "viz_train.show()"
      ],
      "execution_count": null,
      "outputs": [
        {
          "output_type": "display_data",
          "data": {
            "image/png": "[encoded data removed]",
            "text/plain": [
              "<Figure size 432x288 with 1 Axes>"
            ]
          },
          "metadata": {
            "tags": [],
            "needs_background": "light"
          }
        }
      ]
    },
    {
      "cell_type": "code",
      "metadata": {
        "colab": {
          "base_uri": "https://localhost:8080/",
          "height": 295
        },
        "id": "L1JGKYZZEgzZ",
        "outputId": "d7034379-b017-4775-c1c4-731b024d9a75"
      },
      "source": [
        "viz_train = plt\n",
        "viz_train.scatter(X_test, Y_test, color='red')\n",
        "viz_train.plot(X_train, regressor.predict(X_train), color = 'black')\n",
        "viz_train.title('Salario vs Experiencia')\n",
        "viz_train.xlabel('Experiencia')\n",
        "viz_train.ylabel('Salario')\n",
        "viz_train.show()"
      ],
      "execution_count": null,
      "outputs": [
        {
          "output_type": "display_data",
          "data": {
            "image/png": "[encoded data removed]",
            "text/plain": [
              "<Figure size 432x288 with 1 Axes>"
            ]
          },
          "metadata": {
            "tags": [],
            "needs_background": "light"
          }
        }
      ]
    },
    {
      "cell_type": "code",
      "metadata": {
        "colab": {
          "base_uri": "https://localhost:8080/"
        },
        "id": "9ZkIpwADFvKe",
        "outputId": "2e05d81d-769c-415c-ede3-5c7bcb736f23"
      },
      "source": [
        "regressor.score(X_test, Y_test)"
      ],
      "execution_count": null,
      "outputs": [
        {
          "output_type": "execute_result",
          "data": {
            "text/plain": [
              "0.7862437374732997"
            ]
          },
          "metadata": {
            "tags": []
          },
          "execution_count": 13
        }
      ]
    }
  ]
}